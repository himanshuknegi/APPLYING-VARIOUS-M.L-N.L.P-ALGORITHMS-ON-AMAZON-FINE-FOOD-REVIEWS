{
 "cells": [
  {
   "cell_type": "markdown",
   "metadata": {},
   "source": [
    "# Apply Logistic Regression on Amazon Fine Food Reviews \n",
    "\n",
    "\n",
    "Data Source: https://www.kaggle.com/snap/amazon-fine-food-reviews <br>\n",
    "\n",
    "The Amazon Fine Food Reviews dataset consists of reviews of fine foods from Amazon.<br>\n",
    "\n",
    "Number of reviews: 568,454<br>\n",
    "Number of users: 256,059<br>\n",
    "Number of products: 74,258<br>\n",
    "Timespan: Oct 1999 - Oct 2012<br>\n",
    "Number of Attributes/Columns in data: 10 \n",
    "\n",
    "Attribute Information:\n",
    "\n",
    "1. Id\n",
    "2. ProductId - unique identifier for the product\n",
    "3. UserId - unqiue identifier for the user\n",
    "4. ProfileName\n",
    "5. HelpfulnessNumerator - number of users who found the review helpful\n",
    "6. HelpfulnessDenominator - number of users who indicated whether they found the review helpful or not\n",
    "7. Score - rating between 1 and 5\n",
    "8. Time - timestamp for the review\n",
    "9. Summary - brief summary of the review\n",
    "10. Text - text of the review\n",
    "\n",
    "\n",
    "#### Objective:\n",
    "Given a review, determine whether the review is positive (rating of 4 or 5) or negative (rating of 1 or 2).\n",
    "\n",
    "<br>\n",
    "[Q] How to determine if a review is positive or negative?<br>\n",
    "<br> \n",
    "[Ans] We could use Score/Rating. A rating of 4 or 5 can be cosnidered as a positive review. A rating of 1 or 2 can be considered as negative one. A review of rating 3 is considered nuetral and such reviews are ignored from our analysis. This is an approximate and proxy way of determining the polarity (positivity/negativity) of a review.\n",
    "\n",
    "\n"
   ]
  },
  {
   "cell_type": "markdown",
   "metadata": {},
   "source": [
    "# [1]. Reading Data"
   ]
  },
  {
   "cell_type": "markdown",
   "metadata": {},
   "source": [
    "## [1.1] Loading the data\n",
    "\n",
    "The dataset is available in two forms\n",
    "1. .csv file\n",
    "2. SQLite Database\n",
    "\n",
    "In order to load the data, We have used the SQLITE dataset as it is easier to query the data and visualise the data efficiently.\n",
    "<br> \n",
    "\n",
    "Here as we only want to get the global sentiment of the recommendations (positive or negative), we will purposefully ignore all Scores equal to 3. If the score is above 3, then the recommendation wil be set to \"positive\". Otherwise, it will be set to \"negative\"."
   ]
  },
  {
   "cell_type": "code",
   "execution_count": 1,
   "metadata": {},
   "outputs": [
    {
     "name": "stderr",
     "output_type": "stream",
     "text": [
      "C:\\Users\\HIMANSHU NEGI\\Anaconda3\\lib\\site-packages\\gensim\\utils.py:1212: UserWarning: detected Windows; aliasing chunkize to chunkize_serial\n",
      "  warnings.warn(\"detected Windows; aliasing chunkize to chunkize_serial\")\n"
     ]
    }
   ],
   "source": [
    "%matplotlib inline\n",
    "import warnings\n",
    "warnings.filterwarnings(\"ignore\")\n",
    "\n",
    "\n",
    "import sqlite3\n",
    "import pandas as pd\n",
    "import numpy as np\n",
    "import nltk\n",
    "import string\n",
    "import matplotlib.pyplot as plt\n",
    "import seaborn as sns\n",
    "from sklearn.feature_extraction.text import TfidfTransformer\n",
    "from sklearn.feature_extraction.text import TfidfVectorizer\n",
    "\n",
    "from sklearn.feature_extraction.text import CountVectorizer\n",
    "from sklearn.metrics import confusion_matrix\n",
    "from sklearn import metrics\n",
    "from sklearn.metrics import roc_curve, auc\n",
    "from nltk.stem.porter import PorterStemmer\n",
    "\n",
    "import re\n",
    "# Tutorial about Python regular expressions: https://pymotw.com/2/re/\n",
    "import string\n",
    "from nltk.corpus import stopwords\n",
    "from nltk.stem import PorterStemmer\n",
    "from nltk.stem.wordnet import WordNetLemmatizer\n",
    "\n",
    "from gensim.models import Word2Vec\n",
    "from gensim.models import KeyedVectors\n",
    "import pickle\n",
    "\n",
    "from tqdm import tqdm\n",
    "import os"
   ]
  },
  {
   "cell_type": "code",
   "execution_count": 2,
   "metadata": {},
   "outputs": [
    {
     "name": "stdout",
     "output_type": "stream",
     "text": [
      "Number of data points in our data (100000, 10)\n"
     ]
    },
    {
     "data": {
      "text/html": [
       "<div>\n",
       "<style scoped>\n",
       "    .dataframe tbody tr th:only-of-type {\n",
       "        vertical-align: middle;\n",
       "    }\n",
       "\n",
       "    .dataframe tbody tr th {\n",
       "        vertical-align: top;\n",
       "    }\n",
       "\n",
       "    .dataframe thead th {\n",
       "        text-align: right;\n",
       "    }\n",
       "</style>\n",
       "<table border=\"1\" class=\"dataframe\">\n",
       "  <thead>\n",
       "    <tr style=\"text-align: right;\">\n",
       "      <th></th>\n",
       "      <th>Id</th>\n",
       "      <th>ProductId</th>\n",
       "      <th>UserId</th>\n",
       "      <th>ProfileName</th>\n",
       "      <th>HelpfulnessNumerator</th>\n",
       "      <th>HelpfulnessDenominator</th>\n",
       "      <th>Score</th>\n",
       "      <th>Time</th>\n",
       "      <th>Summary</th>\n",
       "      <th>Text</th>\n",
       "    </tr>\n",
       "  </thead>\n",
       "  <tbody>\n",
       "    <tr>\n",
       "      <th>0</th>\n",
       "      <td>1</td>\n",
       "      <td>B001E4KFG0</td>\n",
       "      <td>A3SGXH7AUHU8GW</td>\n",
       "      <td>delmartian</td>\n",
       "      <td>1</td>\n",
       "      <td>1</td>\n",
       "      <td>1</td>\n",
       "      <td>1303862400</td>\n",
       "      <td>Good Quality Dog Food</td>\n",
       "      <td>I have bought several of the Vitality canned d...</td>\n",
       "    </tr>\n",
       "    <tr>\n",
       "      <th>1</th>\n",
       "      <td>2</td>\n",
       "      <td>B00813GRG4</td>\n",
       "      <td>A1D87F6ZCVE5NK</td>\n",
       "      <td>dll pa</td>\n",
       "      <td>0</td>\n",
       "      <td>0</td>\n",
       "      <td>0</td>\n",
       "      <td>1346976000</td>\n",
       "      <td>Not as Advertised</td>\n",
       "      <td>Product arrived labeled as Jumbo Salted Peanut...</td>\n",
       "    </tr>\n",
       "    <tr>\n",
       "      <th>2</th>\n",
       "      <td>3</td>\n",
       "      <td>B000LQOCH0</td>\n",
       "      <td>ABXLMWJIXXAIN</td>\n",
       "      <td>Natalia Corres \"Natalia Corres\"</td>\n",
       "      <td>1</td>\n",
       "      <td>1</td>\n",
       "      <td>1</td>\n",
       "      <td>1219017600</td>\n",
       "      <td>\"Delight\" says it all</td>\n",
       "      <td>This is a confection that has been around a fe...</td>\n",
       "    </tr>\n",
       "  </tbody>\n",
       "</table>\n",
       "</div>"
      ],
      "text/plain": [
       "   Id   ProductId          UserId                      ProfileName  \\\n",
       "0   1  B001E4KFG0  A3SGXH7AUHU8GW                       delmartian   \n",
       "1   2  B00813GRG4  A1D87F6ZCVE5NK                           dll pa   \n",
       "2   3  B000LQOCH0   ABXLMWJIXXAIN  Natalia Corres \"Natalia Corres\"   \n",
       "\n",
       "   HelpfulnessNumerator  HelpfulnessDenominator  Score        Time  \\\n",
       "0                     1                       1      1  1303862400   \n",
       "1                     0                       0      0  1346976000   \n",
       "2                     1                       1      1  1219017600   \n",
       "\n",
       "                 Summary                                               Text  \n",
       "0  Good Quality Dog Food  I have bought several of the Vitality canned d...  \n",
       "1      Not as Advertised  Product arrived labeled as Jumbo Salted Peanut...  \n",
       "2  \"Delight\" says it all  This is a confection that has been around a fe...  "
      ]
     },
     "execution_count": 2,
     "metadata": {},
     "output_type": "execute_result"
    }
   ],
   "source": [
    "# using SQLite Table to read data.\n",
    "con = sqlite3.connect('database.sqlite') \n",
    "\n",
    "# filtering only positive and negative reviews i.e. \n",
    "# not taking into consideration those reviews with Score=3\n",
    "\n",
    "\n",
    "filtered_data = pd.read_sql_query(\"\"\" SELECT * FROM Reviews WHERE Score != 3 LIMIT 100000\"\"\", con) \n",
    "\n",
    "# Give reviews with Score>3 a positive rating(1), and reviews with a score<3 a negative rating(0).\n",
    "def partition(x):\n",
    "    if x < 3:\n",
    "        return 0\n",
    "    return 1\n",
    "\n",
    "#changing reviews with score less than 3 to be positive and vice-versa\n",
    "actualScore = filtered_data['Score']\n",
    "positiveNegative = actualScore.map(partition) \n",
    "filtered_data['Score'] = positiveNegative\n",
    "print(\"Number of data points in our data\", filtered_data.shape)\n",
    "filtered_data.head(3)"
   ]
  },
  {
   "cell_type": "code",
   "execution_count": 3,
   "metadata": {},
   "outputs": [],
   "source": [
    "display = pd.read_sql_query(\"\"\"\n",
    "SELECT UserId, ProductId, ProfileName, Time, Score, Text, COUNT(*)\n",
    "FROM Reviews\n",
    "GROUP BY UserId\n",
    "HAVING COUNT(*)>1\n",
    "\"\"\", con)"
   ]
  },
  {
   "cell_type": "code",
   "execution_count": 4,
   "metadata": {
    "scrolled": true
   },
   "outputs": [
    {
     "name": "stdout",
     "output_type": "stream",
     "text": [
      "(80668, 7)\n"
     ]
    },
    {
     "data": {
      "text/html": [
       "<div>\n",
       "<style scoped>\n",
       "    .dataframe tbody tr th:only-of-type {\n",
       "        vertical-align: middle;\n",
       "    }\n",
       "\n",
       "    .dataframe tbody tr th {\n",
       "        vertical-align: top;\n",
       "    }\n",
       "\n",
       "    .dataframe thead th {\n",
       "        text-align: right;\n",
       "    }\n",
       "</style>\n",
       "<table border=\"1\" class=\"dataframe\">\n",
       "  <thead>\n",
       "    <tr style=\"text-align: right;\">\n",
       "      <th></th>\n",
       "      <th>UserId</th>\n",
       "      <th>ProductId</th>\n",
       "      <th>ProfileName</th>\n",
       "      <th>Time</th>\n",
       "      <th>Score</th>\n",
       "      <th>Text</th>\n",
       "      <th>COUNT(*)</th>\n",
       "    </tr>\n",
       "  </thead>\n",
       "  <tbody>\n",
       "    <tr>\n",
       "      <th>0</th>\n",
       "      <td>#oc-R115TNMSPFT9I7</td>\n",
       "      <td>B007Y59HVM</td>\n",
       "      <td>Breyton</td>\n",
       "      <td>1331510400</td>\n",
       "      <td>2</td>\n",
       "      <td>Overall its just OK when considering the price...</td>\n",
       "      <td>2</td>\n",
       "    </tr>\n",
       "    <tr>\n",
       "      <th>1</th>\n",
       "      <td>#oc-R11D9D7SHXIJB9</td>\n",
       "      <td>B005HG9ET0</td>\n",
       "      <td>Louis E. Emory \"hoppy\"</td>\n",
       "      <td>1342396800</td>\n",
       "      <td>5</td>\n",
       "      <td>My wife has recurring extreme muscle spasms, u...</td>\n",
       "      <td>3</td>\n",
       "    </tr>\n",
       "    <tr>\n",
       "      <th>2</th>\n",
       "      <td>#oc-R11DNU2NBKQ23Z</td>\n",
       "      <td>B007Y59HVM</td>\n",
       "      <td>Kim Cieszykowski</td>\n",
       "      <td>1348531200</td>\n",
       "      <td>1</td>\n",
       "      <td>This coffee is horrible and unfortunately not ...</td>\n",
       "      <td>2</td>\n",
       "    </tr>\n",
       "    <tr>\n",
       "      <th>3</th>\n",
       "      <td>#oc-R11O5J5ZVQE25C</td>\n",
       "      <td>B005HG9ET0</td>\n",
       "      <td>Penguin Chick</td>\n",
       "      <td>1346889600</td>\n",
       "      <td>5</td>\n",
       "      <td>This will be the bottle that you grab from the...</td>\n",
       "      <td>3</td>\n",
       "    </tr>\n",
       "    <tr>\n",
       "      <th>4</th>\n",
       "      <td>#oc-R12KPBODL2B5ZD</td>\n",
       "      <td>B007OSBE1U</td>\n",
       "      <td>Christopher P. Presta</td>\n",
       "      <td>1348617600</td>\n",
       "      <td>1</td>\n",
       "      <td>I didnt like this coffee. Instead of telling y...</td>\n",
       "      <td>2</td>\n",
       "    </tr>\n",
       "  </tbody>\n",
       "</table>\n",
       "</div>"
      ],
      "text/plain": [
       "               UserId   ProductId             ProfileName        Time  Score  \\\n",
       "0  #oc-R115TNMSPFT9I7  B007Y59HVM                 Breyton  1331510400      2   \n",
       "1  #oc-R11D9D7SHXIJB9  B005HG9ET0  Louis E. Emory \"hoppy\"  1342396800      5   \n",
       "2  #oc-R11DNU2NBKQ23Z  B007Y59HVM        Kim Cieszykowski  1348531200      1   \n",
       "3  #oc-R11O5J5ZVQE25C  B005HG9ET0           Penguin Chick  1346889600      5   \n",
       "4  #oc-R12KPBODL2B5ZD  B007OSBE1U   Christopher P. Presta  1348617600      1   \n",
       "\n",
       "                                                Text  COUNT(*)  \n",
       "0  Overall its just OK when considering the price...         2  \n",
       "1  My wife has recurring extreme muscle spasms, u...         3  \n",
       "2  This coffee is horrible and unfortunately not ...         2  \n",
       "3  This will be the bottle that you grab from the...         3  \n",
       "4  I didnt like this coffee. Instead of telling y...         2  "
      ]
     },
     "execution_count": 4,
     "metadata": {},
     "output_type": "execute_result"
    }
   ],
   "source": [
    "print(display.shape)\n",
    "display.head()"
   ]
  },
  {
   "cell_type": "code",
   "execution_count": 5,
   "metadata": {},
   "outputs": [
    {
     "data": {
      "text/html": [
       "<div>\n",
       "<style scoped>\n",
       "    .dataframe tbody tr th:only-of-type {\n",
       "        vertical-align: middle;\n",
       "    }\n",
       "\n",
       "    .dataframe tbody tr th {\n",
       "        vertical-align: top;\n",
       "    }\n",
       "\n",
       "    .dataframe thead th {\n",
       "        text-align: right;\n",
       "    }\n",
       "</style>\n",
       "<table border=\"1\" class=\"dataframe\">\n",
       "  <thead>\n",
       "    <tr style=\"text-align: right;\">\n",
       "      <th></th>\n",
       "      <th>UserId</th>\n",
       "      <th>ProductId</th>\n",
       "      <th>ProfileName</th>\n",
       "      <th>Time</th>\n",
       "      <th>Score</th>\n",
       "      <th>Text</th>\n",
       "      <th>COUNT(*)</th>\n",
       "    </tr>\n",
       "  </thead>\n",
       "  <tbody>\n",
       "    <tr>\n",
       "      <th>80638</th>\n",
       "      <td>AZY10LLTJ71NX</td>\n",
       "      <td>B006P7E5ZI</td>\n",
       "      <td>undertheshrine \"undertheshrine\"</td>\n",
       "      <td>1334707200</td>\n",
       "      <td>5</td>\n",
       "      <td>I was recommended to try green tea extract to ...</td>\n",
       "      <td>5</td>\n",
       "    </tr>\n",
       "  </tbody>\n",
       "</table>\n",
       "</div>"
      ],
      "text/plain": [
       "              UserId   ProductId                      ProfileName        Time  \\\n",
       "80638  AZY10LLTJ71NX  B006P7E5ZI  undertheshrine \"undertheshrine\"  1334707200   \n",
       "\n",
       "       Score                                               Text  COUNT(*)  \n",
       "80638      5  I was recommended to try green tea extract to ...         5  "
      ]
     },
     "execution_count": 5,
     "metadata": {},
     "output_type": "execute_result"
    }
   ],
   "source": [
    "display[display['UserId']=='AZY10LLTJ71NX']"
   ]
  },
  {
   "cell_type": "code",
   "execution_count": 6,
   "metadata": {},
   "outputs": [
    {
     "data": {
      "text/plain": [
       "393063"
      ]
     },
     "execution_count": 6,
     "metadata": {},
     "output_type": "execute_result"
    }
   ],
   "source": [
    "display['COUNT(*)'].sum()"
   ]
  },
  {
   "cell_type": "markdown",
   "metadata": {},
   "source": [
    "#  [2] Exploratory Data Analysis"
   ]
  },
  {
   "cell_type": "markdown",
   "metadata": {},
   "source": [
    "## [2.1] Data Cleaning: Deduplication\n",
    "\n",
    "It is observed (as shown in the table below) that the reviews data had many duplicate entries. Hence it was necessary to remove duplicates in order to get unbiased results for the analysis of the data.  Following is an example:"
   ]
  },
  {
   "cell_type": "code",
   "execution_count": 7,
   "metadata": {
    "scrolled": false
   },
   "outputs": [
    {
     "data": {
      "text/html": [
       "<div>\n",
       "<style scoped>\n",
       "    .dataframe tbody tr th:only-of-type {\n",
       "        vertical-align: middle;\n",
       "    }\n",
       "\n",
       "    .dataframe tbody tr th {\n",
       "        vertical-align: top;\n",
       "    }\n",
       "\n",
       "    .dataframe thead th {\n",
       "        text-align: right;\n",
       "    }\n",
       "</style>\n",
       "<table border=\"1\" class=\"dataframe\">\n",
       "  <thead>\n",
       "    <tr style=\"text-align: right;\">\n",
       "      <th></th>\n",
       "      <th>Id</th>\n",
       "      <th>ProductId</th>\n",
       "      <th>UserId</th>\n",
       "      <th>ProfileName</th>\n",
       "      <th>HelpfulnessNumerator</th>\n",
       "      <th>HelpfulnessDenominator</th>\n",
       "      <th>Score</th>\n",
       "      <th>Time</th>\n",
       "      <th>Summary</th>\n",
       "      <th>Text</th>\n",
       "    </tr>\n",
       "  </thead>\n",
       "  <tbody>\n",
       "    <tr>\n",
       "      <th>0</th>\n",
       "      <td>78445</td>\n",
       "      <td>B000HDL1RQ</td>\n",
       "      <td>AR5J8UI46CURR</td>\n",
       "      <td>Geetha Krishnan</td>\n",
       "      <td>2</td>\n",
       "      <td>2</td>\n",
       "      <td>5</td>\n",
       "      <td>1199577600</td>\n",
       "      <td>LOACKER QUADRATINI VANILLA WAFERS</td>\n",
       "      <td>DELICIOUS WAFERS. I FIND THAT EUROPEAN WAFERS ...</td>\n",
       "    </tr>\n",
       "    <tr>\n",
       "      <th>1</th>\n",
       "      <td>138317</td>\n",
       "      <td>B000HDOPYC</td>\n",
       "      <td>AR5J8UI46CURR</td>\n",
       "      <td>Geetha Krishnan</td>\n",
       "      <td>2</td>\n",
       "      <td>2</td>\n",
       "      <td>5</td>\n",
       "      <td>1199577600</td>\n",
       "      <td>LOACKER QUADRATINI VANILLA WAFERS</td>\n",
       "      <td>DELICIOUS WAFERS. I FIND THAT EUROPEAN WAFERS ...</td>\n",
       "    </tr>\n",
       "    <tr>\n",
       "      <th>2</th>\n",
       "      <td>138277</td>\n",
       "      <td>B000HDOPYM</td>\n",
       "      <td>AR5J8UI46CURR</td>\n",
       "      <td>Geetha Krishnan</td>\n",
       "      <td>2</td>\n",
       "      <td>2</td>\n",
       "      <td>5</td>\n",
       "      <td>1199577600</td>\n",
       "      <td>LOACKER QUADRATINI VANILLA WAFERS</td>\n",
       "      <td>DELICIOUS WAFERS. I FIND THAT EUROPEAN WAFERS ...</td>\n",
       "    </tr>\n",
       "    <tr>\n",
       "      <th>3</th>\n",
       "      <td>73791</td>\n",
       "      <td>B000HDOPZG</td>\n",
       "      <td>AR5J8UI46CURR</td>\n",
       "      <td>Geetha Krishnan</td>\n",
       "      <td>2</td>\n",
       "      <td>2</td>\n",
       "      <td>5</td>\n",
       "      <td>1199577600</td>\n",
       "      <td>LOACKER QUADRATINI VANILLA WAFERS</td>\n",
       "      <td>DELICIOUS WAFERS. I FIND THAT EUROPEAN WAFERS ...</td>\n",
       "    </tr>\n",
       "    <tr>\n",
       "      <th>4</th>\n",
       "      <td>155049</td>\n",
       "      <td>B000PAQ75C</td>\n",
       "      <td>AR5J8UI46CURR</td>\n",
       "      <td>Geetha Krishnan</td>\n",
       "      <td>2</td>\n",
       "      <td>2</td>\n",
       "      <td>5</td>\n",
       "      <td>1199577600</td>\n",
       "      <td>LOACKER QUADRATINI VANILLA WAFERS</td>\n",
       "      <td>DELICIOUS WAFERS. I FIND THAT EUROPEAN WAFERS ...</td>\n",
       "    </tr>\n",
       "  </tbody>\n",
       "</table>\n",
       "</div>"
      ],
      "text/plain": [
       "       Id   ProductId         UserId      ProfileName  HelpfulnessNumerator  \\\n",
       "0   78445  B000HDL1RQ  AR5J8UI46CURR  Geetha Krishnan                     2   \n",
       "1  138317  B000HDOPYC  AR5J8UI46CURR  Geetha Krishnan                     2   \n",
       "2  138277  B000HDOPYM  AR5J8UI46CURR  Geetha Krishnan                     2   \n",
       "3   73791  B000HDOPZG  AR5J8UI46CURR  Geetha Krishnan                     2   \n",
       "4  155049  B000PAQ75C  AR5J8UI46CURR  Geetha Krishnan                     2   \n",
       "\n",
       "   HelpfulnessDenominator  Score        Time  \\\n",
       "0                       2      5  1199577600   \n",
       "1                       2      5  1199577600   \n",
       "2                       2      5  1199577600   \n",
       "3                       2      5  1199577600   \n",
       "4                       2      5  1199577600   \n",
       "\n",
       "                             Summary  \\\n",
       "0  LOACKER QUADRATINI VANILLA WAFERS   \n",
       "1  LOACKER QUADRATINI VANILLA WAFERS   \n",
       "2  LOACKER QUADRATINI VANILLA WAFERS   \n",
       "3  LOACKER QUADRATINI VANILLA WAFERS   \n",
       "4  LOACKER QUADRATINI VANILLA WAFERS   \n",
       "\n",
       "                                                Text  \n",
       "0  DELICIOUS WAFERS. I FIND THAT EUROPEAN WAFERS ...  \n",
       "1  DELICIOUS WAFERS. I FIND THAT EUROPEAN WAFERS ...  \n",
       "2  DELICIOUS WAFERS. I FIND THAT EUROPEAN WAFERS ...  \n",
       "3  DELICIOUS WAFERS. I FIND THAT EUROPEAN WAFERS ...  \n",
       "4  DELICIOUS WAFERS. I FIND THAT EUROPEAN WAFERS ...  "
      ]
     },
     "execution_count": 7,
     "metadata": {},
     "output_type": "execute_result"
    }
   ],
   "source": [
    "display= pd.read_sql_query(\"\"\"\n",
    "SELECT *\n",
    "FROM Reviews\n",
    "WHERE Score != 3 AND UserId=\"AR5J8UI46CURR\"\n",
    "ORDER BY ProductID\n",
    "\"\"\", con)\n",
    "display.head()"
   ]
  },
  {
   "cell_type": "markdown",
   "metadata": {},
   "source": [
    "As it can be seen above that same user has multiple reviews with same values for HelpfulnessNumerator, HelpfulnessDenominator, Score, Time, Summary and Text and on doing analysis it was found that <br>\n",
    "<br> \n",
    "ProductId=B000HDOPZG was Loacker Quadratini Vanilla Wafer Cookies, 8.82-Ounce Packages (Pack of 8)<br>\n",
    "<br> \n",
    "ProductId=B000HDL1RQ was Loacker Quadratini Lemon Wafer Cookies, 8.82-Ounce Packages (Pack of 8) and so on<br>\n",
    "\n",
    "It was inferred after analysis that reviews with same parameters other than ProductId belonged to the same product just having different flavour or quantity. Hence in order to reduce redundancy it was decided to eliminate the rows having same parameters.<br>\n",
    "\n",
    "The method used for the same was that we first sort the data according to ProductId and then just keep the first similar product review and delelte the others. for eg. in the above just the review for ProductId=B000HDL1RQ remains. This method ensures that there is only one representative for each product and deduplication without sorting would lead to possibility of different representatives still existing for the same product."
   ]
  },
  {
   "cell_type": "code",
   "execution_count": 8,
   "metadata": {},
   "outputs": [],
   "source": [
    "#Sorting data according to ProductId in ascending order\n",
    "sorted_data=filtered_data.sort_values('ProductId', axis=0, ascending=True, inplace=False, kind='quicksort', na_position='last')"
   ]
  },
  {
   "cell_type": "code",
   "execution_count": 9,
   "metadata": {},
   "outputs": [
    {
     "data": {
      "text/plain": [
       "(87775, 10)"
      ]
     },
     "execution_count": 9,
     "metadata": {},
     "output_type": "execute_result"
    }
   ],
   "source": [
    "#Deduplication of entries\n",
    "final=sorted_data.drop_duplicates(subset={\"UserId\",\"ProfileName\",\"Time\",\"Text\"}, keep='first', inplace=False)\n",
    "final.shape"
   ]
  },
  {
   "cell_type": "code",
   "execution_count": 10,
   "metadata": {},
   "outputs": [
    {
     "data": {
      "text/plain": [
       "87.775"
      ]
     },
     "execution_count": 10,
     "metadata": {},
     "output_type": "execute_result"
    }
   ],
   "source": [
    "#Checking to see how much % of data still remains\n",
    "(final['Id'].size*1.0)/(filtered_data['Id'].size*1.0)*100"
   ]
  },
  {
   "cell_type": "markdown",
   "metadata": {},
   "source": [
    "<b>Observation:-</b> It was also seen that in two rows given below the value of HelpfulnessNumerator is greater than HelpfulnessDenominator which is not practically possible hence these two rows too are removed from calcualtions"
   ]
  },
  {
   "cell_type": "code",
   "execution_count": 11,
   "metadata": {},
   "outputs": [
    {
     "data": {
      "text/html": [
       "<div>\n",
       "<style scoped>\n",
       "    .dataframe tbody tr th:only-of-type {\n",
       "        vertical-align: middle;\n",
       "    }\n",
       "\n",
       "    .dataframe tbody tr th {\n",
       "        vertical-align: top;\n",
       "    }\n",
       "\n",
       "    .dataframe thead th {\n",
       "        text-align: right;\n",
       "    }\n",
       "</style>\n",
       "<table border=\"1\" class=\"dataframe\">\n",
       "  <thead>\n",
       "    <tr style=\"text-align: right;\">\n",
       "      <th></th>\n",
       "      <th>Id</th>\n",
       "      <th>ProductId</th>\n",
       "      <th>UserId</th>\n",
       "      <th>ProfileName</th>\n",
       "      <th>HelpfulnessNumerator</th>\n",
       "      <th>HelpfulnessDenominator</th>\n",
       "      <th>Score</th>\n",
       "      <th>Time</th>\n",
       "      <th>Summary</th>\n",
       "      <th>Text</th>\n",
       "    </tr>\n",
       "  </thead>\n",
       "  <tbody>\n",
       "    <tr>\n",
       "      <th>0</th>\n",
       "      <td>64422</td>\n",
       "      <td>B000MIDROQ</td>\n",
       "      <td>A161DK06JJMCYF</td>\n",
       "      <td>J. E. Stephens \"Jeanne\"</td>\n",
       "      <td>3</td>\n",
       "      <td>1</td>\n",
       "      <td>5</td>\n",
       "      <td>1224892800</td>\n",
       "      <td>Bought This for My Son at College</td>\n",
       "      <td>My son loves spaghetti so I didn't hesitate or...</td>\n",
       "    </tr>\n",
       "    <tr>\n",
       "      <th>1</th>\n",
       "      <td>44737</td>\n",
       "      <td>B001EQ55RW</td>\n",
       "      <td>A2V0I904FH7ABY</td>\n",
       "      <td>Ram</td>\n",
       "      <td>3</td>\n",
       "      <td>2</td>\n",
       "      <td>4</td>\n",
       "      <td>1212883200</td>\n",
       "      <td>Pure cocoa taste with crunchy almonds inside</td>\n",
       "      <td>It was almost a 'love at first bite' - the per...</td>\n",
       "    </tr>\n",
       "  </tbody>\n",
       "</table>\n",
       "</div>"
      ],
      "text/plain": [
       "      Id   ProductId          UserId              ProfileName  \\\n",
       "0  64422  B000MIDROQ  A161DK06JJMCYF  J. E. Stephens \"Jeanne\"   \n",
       "1  44737  B001EQ55RW  A2V0I904FH7ABY                      Ram   \n",
       "\n",
       "   HelpfulnessNumerator  HelpfulnessDenominator  Score        Time  \\\n",
       "0                     3                       1      5  1224892800   \n",
       "1                     3                       2      4  1212883200   \n",
       "\n",
       "                                        Summary  \\\n",
       "0             Bought This for My Son at College   \n",
       "1  Pure cocoa taste with crunchy almonds inside   \n",
       "\n",
       "                                                Text  \n",
       "0  My son loves spaghetti so I didn't hesitate or...  \n",
       "1  It was almost a 'love at first bite' - the per...  "
      ]
     },
     "execution_count": 11,
     "metadata": {},
     "output_type": "execute_result"
    }
   ],
   "source": [
    "display= pd.read_sql_query(\"\"\"\n",
    "SELECT *\n",
    "FROM Reviews\n",
    "WHERE Score != 3 AND Id=44737 OR Id=64422\n",
    "ORDER BY ProductID\n",
    "\"\"\", con)\n",
    "\n",
    "display.head()"
   ]
  },
  {
   "cell_type": "code",
   "execution_count": 12,
   "metadata": {},
   "outputs": [],
   "source": [
    "final=final[final.HelpfulnessNumerator<=final.HelpfulnessDenominator]"
   ]
  },
  {
   "cell_type": "code",
   "execution_count": 13,
   "metadata": {},
   "outputs": [
    {
     "name": "stdout",
     "output_type": "stream",
     "text": [
      "(87773, 10)\n"
     ]
    },
    {
     "data": {
      "text/plain": [
       "1    73592\n",
       "0    14181\n",
       "Name: Score, dtype: int64"
      ]
     },
     "execution_count": 13,
     "metadata": {},
     "output_type": "execute_result"
    }
   ],
   "source": [
    "#Before starting the next phase of preprocessing lets see the number of entries left\n",
    "print(final.shape)\n",
    "\n",
    "#How many positive and negative reviews are present in our dataset?\n",
    "final['Score'].value_counts()"
   ]
  },
  {
   "cell_type": "markdown",
   "metadata": {},
   "source": [
    "#  [3] Preprocessing"
   ]
  },
  {
   "cell_type": "markdown",
   "metadata": {},
   "source": [
    "## [3.1].  Preprocessing Review Text\n",
    "\n",
    "Now that we have finished deduplication our data requires some preprocessing before we go on further with analysis and making the prediction model.\n",
    "\n",
    "Hence in the Preprocessing phase we do the following in the order below:-\n",
    "\n",
    "1. Begin by removing the html tags\n",
    "2. Remove any punctuations or limited set of special characters like , or . or # etc.\n",
    "3. Check if the word is made up of english letters and is not alpha-numeric\n",
    "4. Check to see if the length of the word is greater than 2 (as it was researched that there is no adjective in 2-letters)\n",
    "5. Convert the word to lowercase\n",
    "6. Remove Stopwords\n",
    "7. Finally Snowball Stemming the word (it was obsereved to be better than Porter Stemming)<br>\n",
    "\n",
    "After which we collect the words used to describe positive and negative reviews"
   ]
  },
  {
   "cell_type": "code",
   "execution_count": 14,
   "metadata": {},
   "outputs": [
    {
     "name": "stdout",
     "output_type": "stream",
     "text": [
      "My dogs loves this chicken but its a product from China, so we wont be buying it anymore.  Its very hard to find any chicken products made in the USA but they are out there, but this one isnt.  Its too bad too because its a good product but I wont take any chances till they know what is going on with the china imports.\n",
      "==================================================\n",
      "The Candy Blocks were a nice visual for the Lego Birthday party but the candy has little taste to it.  Very little of the 2 lbs that I bought were eaten and I threw the rest away.  I would not buy the candy again.\n",
      "==================================================\n",
      "was way to hot for my blood, took a bite and did a jig  lol\n",
      "==================================================\n",
      "My dog LOVES these treats. They tend to have a very strong fish oil smell. So if you are afraid of the fishy smell, don't get it. But I think my dog likes it because of the smell. These treats are really small in size. They are great for training. You can give your dog several of these without worrying about him over eating. Amazon's price was much more reasonable than any other retailer. You can buy a 1 pound bag on Amazon for almost the same price as a 6 ounce bag at other retailers. It's definitely worth it to buy a big bag if your dog eats them a lot.\n",
      "==================================================\n"
     ]
    }
   ],
   "source": [
    "# printing some random reviews\n",
    "sent_0 = final['Text'].values[0]\n",
    "print(sent_0)\n",
    "print(\"=\"*50)\n",
    "\n",
    "sent_1000 = final['Text'].values[1000]\n",
    "print(sent_1000)\n",
    "print(\"=\"*50)\n",
    "\n",
    "sent_1500 = final['Text'].values[1500]\n",
    "print(sent_1500)\n",
    "print(\"=\"*50)\n",
    "\n",
    "sent_4900 = final['Text'].values[4900]\n",
    "print(sent_4900)\n",
    "print(\"=\"*50)"
   ]
  },
  {
   "cell_type": "code",
   "execution_count": 15,
   "metadata": {},
   "outputs": [
    {
     "name": "stdout",
     "output_type": "stream",
     "text": [
      "My dogs loves this chicken but its a product from China, so we wont be buying it anymore.  Its very hard to find any chicken products made in the USA but they are out there, but this one isnt.  Its too bad too because its a good product but I wont take any chances till they know what is going on with the china imports.\n"
     ]
    }
   ],
   "source": [
    "# remove urls from text python: https://stackoverflow.com/a/40823105/4084039\n",
    "sent_0 = re.sub(r\"http\\S+\", \"\", sent_0)\n",
    "sent_1000 = re.sub(r\"http\\S+\", \"\", sent_1000)\n",
    "sent_150 = re.sub(r\"http\\S+\", \"\", sent_1500)\n",
    "sent_4900 = re.sub(r\"http\\S+\", \"\", sent_4900)\n",
    "\n",
    "print(sent_0)"
   ]
  },
  {
   "cell_type": "code",
   "execution_count": 16,
   "metadata": {},
   "outputs": [
    {
     "name": "stdout",
     "output_type": "stream",
     "text": [
      "My dogs loves this chicken but its a product from China, so we wont be buying it anymore.  Its very hard to find any chicken products made in the USA but they are out there, but this one isnt.  Its too bad too because its a good product but I wont take any chances till they know what is going on with the china imports.\n",
      "==================================================\n",
      "The Candy Blocks were a nice visual for the Lego Birthday party but the candy has little taste to it.  Very little of the 2 lbs that I bought were eaten and I threw the rest away.  I would not buy the candy again.\n",
      "==================================================\n",
      "was way to hot for my blood, took a bite and did a jig  lol\n",
      "==================================================\n",
      "My dog LOVES these treats. They tend to have a very strong fish oil smell. So if you are afraid of the fishy smell, don't get it. But I think my dog likes it because of the smell. These treats are really small in size. They are great for training. You can give your dog several of these without worrying about him over eating. Amazon's price was much more reasonable than any other retailer. You can buy a 1 pound bag on Amazon for almost the same price as a 6 ounce bag at other retailers. It's definitely worth it to buy a big bag if your dog eats them a lot.\n"
     ]
    }
   ],
   "source": [
    "# https://stackoverflow.com/questions/16206380/python-beautifulsoup-how-to-remove-all-tags-from-an-element\n",
    "from bs4 import BeautifulSoup\n",
    "\n",
    "soup = BeautifulSoup(sent_0, 'lxml')\n",
    "text = soup.get_text()\n",
    "print(text)\n",
    "print(\"=\"*50)\n",
    "\n",
    "soup = BeautifulSoup(sent_1000, 'lxml')\n",
    "text = soup.get_text()\n",
    "print(text)\n",
    "print(\"=\"*50)\n",
    "\n",
    "soup = BeautifulSoup(sent_1500, 'lxml')\n",
    "text = soup.get_text()\n",
    "print(text)\n",
    "print(\"=\"*50)\n",
    "\n",
    "soup = BeautifulSoup(sent_4900, 'lxml')\n",
    "text = soup.get_text()\n",
    "print(text)"
   ]
  },
  {
   "cell_type": "code",
   "execution_count": 17,
   "metadata": {},
   "outputs": [],
   "source": [
    "# https://stackoverflow.com/a/47091490/4084039\n",
    "import re\n",
    "\n",
    "def decontracted(phrase):\n",
    "    # specific\n",
    "    phrase = re.sub(r\"won't\", \"will not\", phrase)\n",
    "    phrase = re.sub(r\"can\\'t\", \"can not\", phrase)\n",
    "\n",
    "    # general\n",
    "    phrase = re.sub(r\"n\\'t\", \" not\", phrase)\n",
    "    phrase = re.sub(r\"\\'re\", \" are\", phrase)\n",
    "    phrase = re.sub(r\"\\'s\", \" is\", phrase)\n",
    "    phrase = re.sub(r\"\\'d\", \" would\", phrase)\n",
    "    phrase = re.sub(r\"\\'ll\", \" will\", phrase)\n",
    "    phrase = re.sub(r\"\\'t\", \" not\", phrase)\n",
    "    phrase = re.sub(r\"\\'ve\", \" have\", phrase)\n",
    "    phrase = re.sub(r\"\\'m\", \" am\", phrase)\n",
    "    return phrase"
   ]
  },
  {
   "cell_type": "code",
   "execution_count": 18,
   "metadata": {},
   "outputs": [
    {
     "name": "stdout",
     "output_type": "stream",
     "text": [
      "was way to hot for my blood, took a bite and did a jig  lol\n",
      "==================================================\n"
     ]
    }
   ],
   "source": [
    "sent_1500 = decontracted(sent_1500)\n",
    "print(sent_1500)\n",
    "print(\"=\"*50)"
   ]
  },
  {
   "cell_type": "code",
   "execution_count": 19,
   "metadata": {},
   "outputs": [
    {
     "name": "stdout",
     "output_type": "stream",
     "text": [
      "My dogs loves this chicken but its a product from China, so we wont be buying it anymore.  Its very hard to find any chicken products made in the USA but they are out there, but this one isnt.  Its too bad too because its a good product but I wont take any chances till they know what is going on with the china imports.\n"
     ]
    }
   ],
   "source": [
    "#remove words with numbers python: https://stackoverflow.com/a/18082370/4084039\n",
    "sent_0 = re.sub(\"\\S*\\d\\S*\", \"\", sent_0).strip()\n",
    "print(sent_0)"
   ]
  },
  {
   "cell_type": "code",
   "execution_count": 20,
   "metadata": {},
   "outputs": [
    {
     "name": "stdout",
     "output_type": "stream",
     "text": [
      "was way to hot for my blood took a bite and did a jig lol\n"
     ]
    }
   ],
   "source": [
    "#remove spacial character: https://stackoverflow.com/a/5843547/4084039\n",
    "sent_1500 = re.sub('[^A-Za-z0-9]+', ' ', sent_1500)\n",
    "print(sent_1500)"
   ]
  },
  {
   "cell_type": "code",
   "execution_count": 21,
   "metadata": {},
   "outputs": [],
   "source": [
    "# https://gist.github.com/sebleier/554280\n",
    "# we are removing the words from the stop words list: 'no', 'nor', 'not'\n",
    "# <br /><br /> ==> after the above steps, we are getting \"br br\"\n",
    "# we are including them into stop words list\n",
    "# instead of <br /> if we have <br/> these tags would have revmoved in the 1st step\n",
    "\n",
    "stopwords= set(['br', 'the', 'i', 'me', 'my', 'myself', 'we', 'our', 'ours', 'ourselves', 'you', \"you're\", \"you've\",\\\n",
    "            \"you'll\", \"you'd\", 'your', 'yours', 'yourself', 'yourselves', 'he', 'him', 'his', 'himself', \\\n",
    "            'she', \"she's\", 'her', 'hers', 'herself', 'it', \"it's\", 'its', 'itself', 'they', 'them', 'their',\\\n",
    "            'theirs', 'themselves', 'what', 'which', 'who', 'whom', 'this', 'that', \"that'll\", 'these', 'those', \\\n",
    "            'am', 'is', 'are', 'was', 'were', 'be', 'been', 'being', 'have', 'has', 'had', 'having', 'do', 'does', \\\n",
    "            'did', 'doing', 'a', 'an', 'the', 'and', 'but', 'if', 'or', 'because', 'as', 'until', 'while', 'of', \\\n",
    "            'at', 'by', 'for', 'with', 'about', 'against', 'between', 'into', 'through', 'during', 'before', 'after',\\\n",
    "            'above', 'below', 'to', 'from', 'up', 'down', 'in', 'out', 'on', 'off', 'over', 'under', 'again', 'further',\\\n",
    "            'then', 'once', 'here', 'there', 'when', 'where', 'why', 'how', 'all', 'any', 'both', 'each', 'few', 'more',\\\n",
    "            'most', 'other', 'some', 'such', 'only', 'own', 'same', 'so', 'than', 'too', 'very', \\\n",
    "            's', 't', 'can', 'will', 'just', 'don', \"don't\", 'should', \"should've\", 'now', 'd', 'll', 'm', 'o', 're', \\\n",
    "            've', 'y', 'ain', 'aren', \"aren't\", 'couldn', \"couldn't\", 'didn', \"didn't\", 'doesn', \"doesn't\", 'hadn',\\\n",
    "            \"hadn't\", 'hasn', \"hasn't\", 'haven', \"haven't\", 'isn', \"isn't\", 'ma', 'mightn', \"mightn't\", 'mustn',\\\n",
    "            \"mustn't\", 'needn', \"needn't\", 'shan', \"shan't\", 'shouldn', \"shouldn't\", 'wasn', \"wasn't\", 'weren', \"weren't\", \\\n",
    "            'won', \"won't\", 'wouldn', \"wouldn't\"])"
   ]
  },
  {
   "cell_type": "code",
   "execution_count": 22,
   "metadata": {},
   "outputs": [
    {
     "name": "stderr",
     "output_type": "stream",
     "text": [
      "100%|██████████████████████████████████████████████████████████████████████████| 87773/87773 [00:51<00:00, 1690.05it/s]\n"
     ]
    }
   ],
   "source": [
    "# Combining all the above stundents \n",
    "from tqdm import tqdm\n",
    "preprocessed_reviews = []\n",
    "# tqdm is for printing the status bar\n",
    "for sentance in tqdm(final['Text'].values):\n",
    "    sentance = re.sub(r\"http\\S+\", \"\", sentance)\n",
    "    sentance = BeautifulSoup(sentance, 'lxml').get_text()\n",
    "    sentance = decontracted(sentance)\n",
    "    sentance = re.sub(\"\\S*\\d\\S*\", \"\", sentance).strip()\n",
    "    sentance = re.sub('[^A-Za-z]+', ' ', sentance)\n",
    "    # https://gist.github.com/sebleier/554280\n",
    "    sentance = ' '.join(e.lower() for e in sentance.split() if e.lower() not in stopwords)\n",
    "    preprocessed_reviews.append(sentance.strip())"
   ]
  },
  {
   "cell_type": "code",
   "execution_count": 25,
   "metadata": {},
   "outputs": [
    {
     "data": {
      "text/plain": [
       "'way hot blood took bite jig lol'"
      ]
     },
     "execution_count": 25,
     "metadata": {},
     "output_type": "execute_result"
    }
   ],
   "source": [
    "preprocessed_reviews[1500]"
   ]
  },
  {
   "cell_type": "markdown",
   "metadata": {},
   "source": [
    "# [5] Assignment 5: Apply Logistic Regression"
   ]
  },
  {
   "cell_type": "code",
   "execution_count": 24,
   "metadata": {},
   "outputs": [],
   "source": [
    "from sklearn.metrics import accuracy_score,confusion_matrix,f1_score,precision_score,recall_score,roc_auc_score\n",
    "from sklearn.model_selection import GridSearchCV\n",
    "from sklearn.linear_model import LogisticRegression\n",
    "from sklearn.metrics import roc_curve,auc\n",
    "\n",
    "\n",
    "from sklearn.model_selection import cross_val_score\n",
    "from collections import Counter\n",
    "from sklearn.metrics import accuracy_score\n",
    "from sklearn.model_selection import cross_validate"
   ]
  },
  {
   "cell_type": "markdown",
   "metadata": {},
   "source": [
    "# Applying Logistic Regression"
   ]
  },
  {
   "cell_type": "code",
   "execution_count": 25,
   "metadata": {},
   "outputs": [],
   "source": [
    "#spilliting data \n",
    "from sklearn.model_selection import train_test_split\n",
    "\n",
    "# split the data set into train and test\n",
    "X_1, X_test, y_1, y_test = train_test_split(preprocessed_reviews, final['Score'], test_size=0.3, random_state=0)\n",
    "\n",
    "# split the train data set into cross validation train and cross validation test\n",
    "X_tr, X_cv, y_tr, y_cv = train_test_split(X_1, y_1, test_size=0.3)"
   ]
  },
  {
   "cell_type": "markdown",
   "metadata": {},
   "source": [
    "## [5.1] Logistic Regression on BOW,<font color='red'> SET 1</font>"
   ]
  },
  {
   "cell_type": "code",
   "execution_count": 26,
   "metadata": {},
   "outputs": [
    {
     "name": "stdout",
     "output_type": "stream",
     "text": [
      "the type of count vectorizer : <class 'list'>\n",
      "the shape of out text BOW vectorizer :  (43008, 8139)\n",
      "the number of unique words : 8139\n"
     ]
    }
   ],
   "source": [
    "#code for VECTORIZER\n",
    "count_vect = CountVectorizer(min_df = 10) \n",
    "Xbow_tr = count_vect.fit_transform(X_tr)\n",
    "Xbow_test = count_vect.transform(X_test)\n",
    "Xbow_cv = count_vect.transform(X_cv)\n",
    "print(\"the type of count vectorizer :\",type(X_tr))\n",
    "print(\"the shape of out text BOW vectorizer : \",Xbow_tr.get_shape())\n",
    "print(\"the number of unique words :\", Xbow_tr.get_shape()[1])"
   ]
  },
  {
   "cell_type": "code",
   "execution_count": 27,
   "metadata": {},
   "outputs": [],
   "source": [
    "# Data-preprocessing: Standardizing the data\n",
    "import warnings\n",
    "warnings.filterwarnings('ignore')\n",
    "\n",
    "\n",
    "from sklearn.preprocessing import StandardScaler\n",
    "sc = StandardScaler(with_mean=False)\n",
    "Xbow_tr_std = sc.fit_transform(Xbow_tr)\n",
    "Xbow_test_std = sc.transform(Xbow_test)\n",
    "Xbow_cv_std = sc.fit_transform(Xbow_cv)"
   ]
  },
  {
   "cell_type": "markdown",
   "metadata": {},
   "source": [
    "### [5.1.1] Applying Logistic Regression with L1 regularization on BOW,<font color='red'> SET 1</font>"
   ]
  },
  {
   "cell_type": "code",
   "execution_count": 47,
   "metadata": {},
   "outputs": [],
   "source": [
    "#code for hyperparameter tuning\n",
    "import numpy as np\n",
    "hyper = []\n",
    "i = 0.0001\n",
    "while(i<=10000):\n",
    "    hyper.append(np.round(i,4))\n",
    "    i *= 10\n",
    "\n",
    "auc1=[]\n",
    "auc2=[]\n",
    "\n",
    "for j in hyper:\n",
    "  \n",
    "    model = LogisticRegression(penalty='l1',C=j)\n",
    "    model.fit(Xbow_tr_std, y_tr)\n",
    "    \n",
    "    probs = model.predict_proba(Xbow_tr_std)\n",
    "    preds = probs[:,1]\n",
    "    roc_auc1=metrics.roc_auc_score(y_tr, preds)\n",
    "    auc1.append(roc_auc1)\n",
    "    \n",
    "  \n",
    "    probs = model.predict_proba(Xbow_cv_std)\n",
    "    preds = probs[:,1]\n",
    "    roc_auc2=metrics.roc_auc_score(y_cv, preds)\n",
    "    auc2.append(roc_auc2)\n",
    "    \n",
    "    \n",
    "\n",
    "    "
   ]
  },
  {
   "cell_type": "code",
   "execution_count": 54,
   "metadata": {},
   "outputs": [
    {
     "name": "stdout",
     "output_type": "stream",
     "text": [
      "[0.0001, 0.001, 0.01, 0.1, 1.0, 10.0, 100.0, 1000.0, 10000.0]\n",
      "--------------------------------------------------------------------------------------------\n",
      "[0.5, 0.8425503846776905, 0.9576780915012392, 0.9941944405528373, 0.9994771944594137, 0.9997959150727305, 0.9997610584396648, 0.9997736336803226, 0.9998875141326604]\n",
      "--------------------------------------------------------------------------------------------\n",
      "------------------------------------------------------------------------------------------\n",
      "[0.5, 0.8391712041255219, 0.935746474098139, 0.9160812123926568, 0.8690068918605829, 0.85190463559747, 0.8460940422632803, 0.8474929477660343, 0.8395385893208752]\n"
     ]
    },
    {
     "data": {
      "image/png": "[encoded data removed]",
      "text/plain": [
       "<Figure size 432x288 with 1 Axes>"
      ]
     },
     "metadata": {},
     "output_type": "display_data"
    }
   ],
   "source": [
    "#code for plotting graph\n",
    "print(hyper)\n",
    "\n",
    "print('--------------------------------------------------------------------------------------------')\n",
    "print(auc1)\n",
    "\n",
    "print('--------------------------------------------------------------------------------------------')\n",
    "print('------------------------------------------------------------------------------------------')\n",
    "print(auc2)\n",
    "\n",
    "plt.title('AUC on train and  C.V for varoius value of C=(1/LAMBDA)',size=16)\n",
    "plt.plot(hyper, auc1,'g',label ='Train')\n",
    "plt.plot(hyper, auc2,'r',label ='C.V')\n",
    "\n",
    "plt.ylabel('AUC',size=10)\n",
    "plt.xlabel('C=(1/LAMBDA)',size=10)\n",
    "plt.grid()\n",
    "plt.legend()\n",
    "plt.show()\n"
   ]
  },
  {
   "cell_type": "code",
   "execution_count": 28,
   "metadata": {},
   "outputs": [
    {
     "name": "stdout",
     "output_type": "stream",
     "text": [
      "\n",
      "The accuracy of the LOGISTIC Regression classifier with L1 regulariser for alpha = 0.010000 is 90.661552%\n"
     ]
    }
   ],
   "source": [
    "# L.R with optimal c\n",
    "lr = LogisticRegression(penalty='l1',C=.01)\n",
    "\n",
    "# fitting the model\n",
    "lr.fit(Xbow_tr_std, y_tr)\n",
    "\n",
    "# predict the response\n",
    "pred = lr.predict(Xbow_test_std)\n",
    "\n",
    "# evaluate accuracy\n",
    "acc = accuracy_score(y_test, pred) * 100\n",
    "print('\\nThe accuracy of the LOGISTIC Regression classifier with L1 regulariser for alpha = %f is %f%%' % (0.01, acc))"
   ]
  },
  {
   "cell_type": "code",
   "execution_count": 38,
   "metadata": {},
   "outputs": [
    {
     "data": {
      "image/png": "[encoded data removed]",
      "text/plain": [
       "<Figure size 720x504 with 2 Axes>"
      ]
     },
     "metadata": {},
     "output_type": "display_data"
    }
   ],
   "source": [
    "# Code for drawing seaborn heatmaps\n",
    "class_names = ['negative','positive']\n",
    "df_heatmap = pd.DataFrame(confusion_matrix(y_test, pred), index=class_names, columns=class_names )\n",
    "fig = plt.figure(figsize=(10,7))\n",
    "heatmap = sns.heatmap(df_heatmap, annot=True, fmt=\"d\")\n",
    "\n",
    "# Setting tick labels for heatmap\n",
    "heatmap.yaxis.set_ticklabels(heatmap.yaxis.get_ticklabels(), rotation=0, ha='right', fontsize=14)\n",
    "heatmap.xaxis.set_ticklabels(heatmap.xaxis.get_ticklabels(), rotation=0, ha='right', fontsize=14)\n",
    "plt.ylabel('Predicted label',size=18)\n",
    "plt.xlabel('True label',size=18)\n",
    "plt.title(\"Confusion Matrix\\n\",size=24)\n",
    "plt.show()"
   ]
  },
  {
   "cell_type": "markdown",
   "metadata": {},
   "source": [
    "#### [5.1.1.1] Calculating sparsity on weight vector obtained using L1 regularization on BOW,<font color='red'> SET 1</font>"
   ]
  },
  {
   "cell_type": "code",
   "execution_count": 30,
   "metadata": {},
   "outputs": [],
   "source": [
    "\n",
    "probs2 = lr.predict_proba(Xbow_tr)\n",
    "preds2 = probs2[:,1]\n",
    "fpr2, tpr2, threshold2 = metrics.roc_curve(y_tr, preds2)\n",
    "roc_auc2 = metrics.auc(fpr2, tpr2)\n",
    "\n",
    "\n",
    "probs1 = lr.predict_proba(Xbow_test)\n",
    "preds1 = probs1[:,1]\n",
    "fpr1, tpr1, threshold1 = metrics.roc_curve(y_test, preds1)\n",
    "roc_auc1 = metrics.auc(fpr1, tpr1)\n",
    "\n"
   ]
  },
  {
   "cell_type": "code",
   "execution_count": 31,
   "metadata": {},
   "outputs": [
    {
     "data": {
      "image/png": "[encoded data removed]",
      "text/plain": [
       "<Figure size 432x288 with 1 Axes>"
      ]
     },
     "metadata": {},
     "output_type": "display_data"
    }
   ],
   "source": [
    "plt.title('Receiver Operating Characteristic on train and test')\n",
    "plt.plot(fpr1, tpr1, 'b', label = 'AUC = %0.2f' % roc_auc1)\n",
    "plt.plot(fpr2, tpr2, 'g', label = 'AUC = %0.2f' % roc_auc2)\n",
    "#plt.plot(neighbors, auc1,'g')\n",
    "#plt.plot(neighbors, auc2,'r')\n",
    "plt.legend(loc = 'lower right')\n",
    "plt.plot([0, 1], [0, 1],'r--')\n",
    "plt.ylabel('True Positive Rate')\n",
    "plt.xlabel('False Positive Rate')\n",
    "plt.show()"
   ]
  },
  {
   "cell_type": "code",
   "execution_count": 67,
   "metadata": {},
   "outputs": [
    {
     "name": "stdout",
     "output_type": "stream",
     "text": [
      "1249\n"
     ]
    }
   ],
   "source": [
    "# SPARCITY OF our model 0.01\n",
    "\n",
    "w = lr.coef_\n",
    "print(np.count_nonzero(w))"
   ]
  },
  {
   "cell_type": "code",
   "execution_count": 69,
   "metadata": {},
   "outputs": [
    {
     "name": "stdout",
     "output_type": "stream",
     "text": [
      "5311\n"
     ]
    }
   ],
   "source": [
    "# SPARCITY OF our model 0.1\n",
    "\n",
    "clf = LogisticRegression(C=0.1, penalty='l1');\n",
    "clf.fit(Xbow_tr_std, y_tr);\n",
    "w = clf.coef_\n",
    "print(np.count_nonzero(w))\n"
   ]
  },
  {
   "cell_type": "code",
   "execution_count": 70,
   "metadata": {},
   "outputs": [
    {
     "name": "stdout",
     "output_type": "stream",
     "text": [
      "6810\n"
     ]
    }
   ],
   "source": [
    "# SPARCITY OF our model 1\n",
    "\n",
    "clf = LogisticRegression(C=1, penalty='l1');\n",
    "clf.fit(Xbow_tr_std, y_tr);\n",
    "w = clf.coef_\n",
    "print(np.count_nonzero(w))"
   ]
  },
  {
   "cell_type": "markdown",
   "metadata": {},
   "source": [
    "### [5.1.2] Applying Logistic Regression with L2 regularization on BOW,<font color='red'> SET 1</font>"
   ]
  },
  {
   "cell_type": "code",
   "execution_count": 30,
   "metadata": {},
   "outputs": [],
   "source": [
    "#code for hyperparameter tuning\n",
    "import numpy as np\n",
    "hyper = []\n",
    "i = 0.0001\n",
    "while(i<=10000):\n",
    "    hyper.append(np.round(i,4))\n",
    "    i *= 10\n",
    "\n",
    "auc1=[]\n",
    "auc2=[]\n",
    "\n",
    "for j in hyper:\n",
    "  \n",
    "    model = LogisticRegression(penalty='l2',C=j)\n",
    "    model.fit(Xbow_tr_std, y_tr)\n",
    "    \n",
    "    probs = model.predict_proba(Xbow_tr_std)\n",
    "    preds = probs[:,1]\n",
    "    roc_auc1=metrics.roc_auc_score(y_tr, preds)\n",
    "    auc1.append(roc_auc1)\n",
    "    \n",
    "  \n",
    "    probs = model.predict_proba(Xbow_cv_std)\n",
    "    preds = probs[:,1]\n",
    "    roc_auc2=metrics.roc_auc_score(y_cv, preds)\n",
    "    auc2.append(roc_auc2)\n",
    "    \n",
    "    \n",
    "\n",
    "    "
   ]
  },
  {
   "cell_type": "code",
   "execution_count": 31,
   "metadata": {},
   "outputs": [
    {
     "name": "stdout",
     "output_type": "stream",
     "text": [
      "[0.0001, 0.001, 0.01, 0.1, 1.0, 10.0, 100.0, 1000.0, 10000.0]\n",
      "--------------------------------------------------------------------------------------------\n",
      "[0.9631493840317044, 0.9892487502173155, 0.9962185313635145, 0.998839586828789, 0.9991716107600338, 0.9993761853031468, 0.999317454495642, 0.9992613338579628, 0.9993557965793346]\n",
      "--------------------------------------------------------------------------------------------\n",
      "------------------------------------------------------------------------------------------\n",
      "[0.9161191183582622, 0.9254361831051082, 0.9026155723331986, 0.8726337265511651, 0.8655700110460327, 0.8601471961261699, 0.8619146376722482, 0.8634052851755962, 0.8608954525493746]\n"
     ]
    },
    {
     "data": {
      "image/png": "[encoded data removed]",
      "text/plain": [
       "<Figure size 432x288 with 1 Axes>"
      ]
     },
     "metadata": {},
     "output_type": "display_data"
    }
   ],
   "source": [
    "#code for plotting graph\n",
    "print(hyper)\n",
    "\n",
    "print('--------------------------------------------------------------------------------------------')\n",
    "print(auc1)\n",
    "\n",
    "print('--------------------------------------------------------------------------------------------')\n",
    "print('------------------------------------------------------------------------------------------')\n",
    "print(auc2)\n",
    "\n",
    "plt.title('AUC on train and  C.V for varoius value of C=(1/LAMBDA)',size=16)\n",
    "plt.plot(hyper, auc1,'g',label ='Train')\n",
    "plt.plot(hyper, auc2,'r',label ='C.V')\n",
    "\n",
    "plt.ylabel('AUC',size=10)\n",
    "plt.xlabel('C=(1/LAMBDA)',size=10)\n",
    "plt.grid()\n",
    "plt.legend()\n",
    "plt.show()\n",
    "\n"
   ]
  },
  {
   "cell_type": "code",
   "execution_count": 32,
   "metadata": {},
   "outputs": [
    {
     "name": "stdout",
     "output_type": "stream",
     "text": [
      "\n",
      "The accuracy of the LOGISTIC Regression classifier with L2 regulariser for alpha = 0.001000 is 91.329941%\n"
     ]
    }
   ],
   "source": [
    "# L.R with optimal c\n",
    "lr = LogisticRegression(penalty='l2',C=0.001)\n",
    "\n",
    "# fitting the model\n",
    "lr.fit(Xbow_tr_std, y_tr)\n",
    "\n",
    "# predict the response\n",
    "pred = lr.predict(Xbow_test_std)\n",
    "\n",
    "# evaluate accuracy\n",
    "acc = accuracy_score(y_test, pred) * 100\n",
    "print('\\nThe accuracy of the LOGISTIC Regression classifier with L2 regulariser for alpha = %f is %f%%' % (0.001, acc))"
   ]
  },
  {
   "cell_type": "code",
   "execution_count": 33,
   "metadata": {},
   "outputs": [
    {
     "data": {
      "image/png": "[encoded data removed]",
      "text/plain": [
       "<Figure size 720x504 with 2 Axes>"
      ]
     },
     "metadata": {},
     "output_type": "display_data"
    }
   ],
   "source": [
    "# Code for drawing seaborn heatmaps\n",
    "class_names = ['negative','positive']\n",
    "df_heatmap = pd.DataFrame(confusion_matrix(y_test, pred), index=class_names, columns=class_names )\n",
    "fig = plt.figure(figsize=(10,7))\n",
    "heatmap = sns.heatmap(df_heatmap, annot=True, fmt=\"d\")\n",
    "\n",
    "# Setting tick labels for heatmap\n",
    "heatmap.yaxis.set_ticklabels(heatmap.yaxis.get_ticklabels(), rotation=0, ha='right', fontsize=14)\n",
    "heatmap.xaxis.set_ticklabels(heatmap.xaxis.get_ticklabels(), rotation=0, ha='right', fontsize=14)\n",
    "plt.ylabel('Predicted label',size=18)\n",
    "plt.xlabel('True label',size=18)\n",
    "plt.title(\"Confusion Matrix\\n\",size=24)\n",
    "plt.show()"
   ]
  },
  {
   "cell_type": "code",
   "execution_count": 34,
   "metadata": {},
   "outputs": [],
   "source": [
    "\n",
    "probs2 = lr.predict_proba(Xbow_tr)\n",
    "preds2 = probs2[:,1]\n",
    "fpr2, tpr2, threshold2 = metrics.roc_curve(y_tr, preds2)\n",
    "roc_auc2 = metrics.auc(fpr2, tpr2)\n",
    "\n",
    "\n",
    "probs1 = lr.predict_proba(Xbow_test)\n",
    "preds1 = probs1[:,1]\n",
    "fpr1, tpr1, threshold1 = metrics.roc_curve(y_test, preds1)\n",
    "roc_auc1 = metrics.auc(fpr1, tpr1)\n",
    "\n"
   ]
  },
  {
   "cell_type": "code",
   "execution_count": 35,
   "metadata": {},
   "outputs": [
    {
     "data": {
      "image/png": "[encoded data removed]",
      "text/plain": [
       "<Figure size 432x288 with 1 Axes>"
      ]
     },
     "metadata": {},
     "output_type": "display_data"
    }
   ],
   "source": [
    "plt.title('Receiver Operating Characteristic on train and test')\n",
    "plt.plot(fpr1, tpr1, 'b', label = 'AUC = %0.2f' % roc_auc1)\n",
    "plt.plot(fpr2, tpr2, 'g', label = 'AUC = %0.2f' % roc_auc2)\n",
    "#plt.plot(neighbors, auc1,'g')\n",
    "#plt.plot(neighbors, auc2,'r')\n",
    "plt.legend(loc = 'lower right')\n",
    "plt.plot([0, 1], [0, 1],'r--')\n",
    "plt.ylabel('True Positive Rate')\n",
    "plt.xlabel('False Positive Rate')\n",
    "plt.show()"
   ]
  },
  {
   "cell_type": "markdown",
   "metadata": {},
   "source": [
    "#### [5.1.2.1] Performing pertubation test (multicollinearity check) on BOW,<font color='red'> SET 1</font>"
   ]
  },
  {
   "cell_type": "code",
   "execution_count": 177,
   "metadata": {},
   "outputs": [
    {
     "name": "stdout",
     "output_type": "stream",
     "text": [
      "Vector before the addition of epsilon\n",
      "[[-0.01720176 -0.00660118 -0.00317081 ... -0.0007471   0.01312499\n",
      "   0.00814959]]\n"
     ]
    }
   ],
   "source": [
    "print(\"Vector before the addition of epsilon\")\n",
    "W_before_epsilon = lr.coef_\n",
    "print(W_before_epsilon\n",
    "     )"
   ]
  },
  {
   "cell_type": "code",
   "execution_count": 36,
   "metadata": {},
   "outputs": [
    {
     "name": "stdout",
     "output_type": "stream",
     "text": [
      "random value of epsilon\n",
      "-3.4335880090706586e-05\n",
      "Number of non zero elements in Xtrain sparse matrix\n",
      "1363842\n"
     ]
    }
   ],
   "source": [
    "# Performing pertubation test (multicollinearity check) on BOW  \n",
    "import scipy as sp\n",
    "epsilon = sp.stats.distributions.norm.rvs(loc=0,scale=0.0001)#loc=mean and scale is Std Dev\n",
    "print(\"random value of epsilon\")\n",
    "print(epsilon)\n",
    "\n",
    "\n",
    "\n",
    "print(\"Number of non zero elements in Xtrain sparse matrix\")\n",
    "no_of_non_zero = Xbow_tr_std.count_nonzero()\n",
    "\n",
    "print(no_of_non_zero)\n"
   ]
  },
  {
   "cell_type": "code",
   "execution_count": 48,
   "metadata": {},
   "outputs": [
    {
     "name": "stdout",
     "output_type": "stream",
     "text": [
      "(43008, 8123)\n",
      "(43008, 8123)\n"
     ]
    }
   ],
   "source": [
    "# Creating new sparse matrix with epsilon at same position \n",
    "#    of non-zero elements of X_train_vec_standard\n",
    "\n",
    "from scipy.sparse import csr_matrix\n",
    "\n",
    "\n",
    "indices_Xbow_tr = Xbow_tr_std.indices#index array of matrix\n",
    "indptr_Xbow_tr = Xbow_tr_std.indptr#index pointer array of matrix\n",
    "\n",
    "# Creating a list of same element with repetition\n",
    "data = [epsilon] * no_of_non_zero\n",
    "Shape = Xbow_tr_std.shape\n",
    "\n",
    "# Creating sparse matrix\n",
    "sparse_epsilon = csr_matrix((data,indices_Xbow_tr,indptr_Xbow_tr),shape=Shape,dtype=float)\n",
    "'''   \n",
    "    csr_matrix((data, indices, indptr), [shape=(M, N)])\n",
    "\n",
    "is the standard CSR representation where the column indices for row i are stored \n",
    "in indices[indptr[i]:indptr[i+1]] and their corresponding values are stored \n",
    "in data[indptr[i]:indptr[i+1]]. \n",
    "\n",
    "'''\n",
    "\n",
    "# Add sparse_epsilon and X-train_vec_standardized to get a new sparse matrix with epsilon added to each \n",
    "# non-zero element of X_train_vec_standardized\n",
    "epsilon_tr = Xbow_tr_std + sparse_epsilon\n",
    "\n",
    "print(Xbow_tr_std.shape)\n",
    "print(epsilon_tr.shape)"
   ]
  },
  {
   "cell_type": "code",
   "execution_count": 49,
   "metadata": {},
   "outputs": [
    {
     "data": {
      "text/plain": [
       "LogisticRegression(C=0.001, class_weight=None, dual=False, fit_intercept=True,\n",
       "          intercept_scaling=1, max_iter=100, multi_class='warn',\n",
       "          n_jobs=None, penalty='l2', random_state=None, solver='warn',\n",
       "          tol=0.0001, verbose=0, warm_start=False)"
      ]
     },
     "execution_count": 49,
     "metadata": {},
     "output_type": "execute_result"
    }
   ],
   "source": [
    "# fitting the model\n",
    "elr = LogisticRegression(penalty='l2',C=0.001)\n",
    "\n",
    "\n",
    "elr.fit(epsilon_tr, y_tr)\n",
    "\n"
   ]
  },
  {
   "cell_type": "code",
   "execution_count": 193,
   "metadata": {},
   "outputs": [],
   "source": [
    "Wp_after_epsilon=elr.coef_"
   ]
  },
  {
   "cell_type": "code",
   "execution_count": 75,
   "metadata": {},
   "outputs": [
    {
     "data": {
      "text/plain": [
       "array([1.27400147, 1.12176915, 0.9970868 , 0.80710631, 0.49441904,\n",
       "       0.45823817, 0.39359011, 0.38672621, 0.3812035 , 0.34499534])"
      ]
     },
     "execution_count": 75,
     "metadata": {},
     "output_type": "execute_result"
    }
   ],
   "source": [
    "# Vector after the addition of epsilon\n",
    "Wp_after_epsilon = elr.coef_+(10**-6)\n",
    "Wp_before_epsilon= W_before_epsilon++(10**-6)\n",
    "# Change in percentage vectors after adding epsilon\n",
    "Per_change_vector =(((Wp_after_epsilon - Wp_before_epsilon))/Wp_before_epsilon)*100\n",
    "\n",
    " #Sort this percentage change_vector array after making all the elements positive in ascending order to visualize the change\n",
    "Per_sorted_change_vector = (np.sort(np.absolute(Per_change_vector))[:,::-1])\n",
    "\n",
    "Per_sorted_change_vector[0,0:10]"
   ]
  },
  {
   "cell_type": "code",
   "execution_count": 126,
   "metadata": {},
   "outputs": [],
   "source": [
    "percv1=np.percentile(Per_change_vector,[10,20,30,40,50,60,70,80,90,100],axis=1)"
   ]
  },
  {
   "cell_type": "code",
   "execution_count": 127,
   "metadata": {},
   "outputs": [
    {
     "data": {
      "text/plain": [
       "array([[-2.22043388e-03],\n",
       "       [-1.07643307e-03],\n",
       "       [-6.28455971e-04],\n",
       "       [-3.56322699e-04],\n",
       "       [-1.39831710e-04],\n",
       "       [ 5.60156198e-05],\n",
       "       [ 3.01666989e-04],\n",
       "       [ 7.02796700e-04],\n",
       "       [ 1.83963994e-03],\n",
       "       [ 1.12176915e+00]])"
      ]
     },
     "execution_count": 127,
     "metadata": {},
     "output_type": "execute_result"
    }
   ],
   "source": [
    "percv1"
   ]
  },
  {
   "cell_type": "code",
   "execution_count": 130,
   "metadata": {},
   "outputs": [],
   "source": [
    "percv2=np.percentile(Per_change_vector,[90,91,92,93,94,95,96,97,98,99,100],axis=1)"
   ]
  },
  {
   "cell_type": "code",
   "execution_count": 131,
   "metadata": {},
   "outputs": [
    {
     "data": {
      "text/plain": [
       "array([[0.00183964],\n",
       "       [0.00209655],\n",
       "       [0.00235144],\n",
       "       [0.00290105],\n",
       "       [0.00349977],\n",
       "       [0.00396543],\n",
       "       [0.00477589],\n",
       "       [0.00637157],\n",
       "       [0.00967806],\n",
       "       [0.01655241],\n",
       "       [1.12176915]])"
      ]
     },
     "execution_count": 131,
     "metadata": {},
     "output_type": "execute_result"
    }
   ],
   "source": [
    "percv2"
   ]
  },
  {
   "cell_type": "code",
   "execution_count": 132,
   "metadata": {},
   "outputs": [],
   "source": [
    "percv3=np.percentile(Per_change_vector,[98.1,98.1,98.3,98.4,98.5,98.6,98.7,98.8,98.9,90,99.1,99.2,99.3,99.4,99.5,99.6,99.7,99.8,99.9,100],axis=1)"
   ]
  },
  {
   "cell_type": "code",
   "execution_count": 133,
   "metadata": {},
   "outputs": [
    {
     "data": {
      "text/plain": [
       "array([[0.01008433],\n",
       "       [0.01008433],\n",
       "       [0.01145125],\n",
       "       [0.01201849],\n",
       "       [0.01291995],\n",
       "       [0.01378069],\n",
       "       [0.01441204],\n",
       "       [0.01476352],\n",
       "       [0.01573722],\n",
       "       [0.00183964],\n",
       "       [0.01854444],\n",
       "       [0.02196653],\n",
       "       [0.02614253],\n",
       "       [0.03083574],\n",
       "       [0.04025344],\n",
       "       [0.05326905],\n",
       "       [0.06191565],\n",
       "       [0.07178267],\n",
       "       [0.15928484],\n",
       "       [1.12176915]])"
      ]
     },
     "execution_count": 133,
     "metadata": {},
     "output_type": "execute_result"
    }
   ],
   "source": [
    "percv3"
   ]
  },
  {
   "cell_type": "markdown",
   "metadata": {},
   "source": [
    " There is sudden change from 99.4th percentile so we will consider it as our threshold and we have to disgard them."
   ]
  },
  {
   "cell_type": "code",
   "execution_count": 275,
   "metadata": {},
   "outputs": [
    {
     "name": "stdout",
     "output_type": "stream",
     "text": [
      "SO the vectors who have per_change-vector will be grater then below will be disgarded\n",
      "[0.03083574]\n"
     ]
    }
   ],
   "source": [
    "print(\"SO the vectors who have per_change-vector will be grater then below will be disgarded\")\n",
    "percvt=np.percentile(Per_change_vector,99.4,axis=1)\n",
    "print(percvt)"
   ]
  },
  {
   "cell_type": "code",
   "execution_count": 267,
   "metadata": {},
   "outputs": [],
   "source": [
    "#finding the position index[0,i] having grater percentile then thershold\n",
    "listt=[]\n",
    "for i in range(0,8122):\n",
    "    if(Per_change_vector[0,i]>0.03083574):\n",
    "        listt.append(i)\n",
    "   "
   ]
  },
  {
   "cell_type": "markdown",
   "metadata": {},
   "source": [
    "### Following are the features whose % change is more then thershold with their weight values :"
   ]
  },
  {
   "cell_type": "code",
   "execution_count": 274,
   "metadata": {},
   "outputs": [
    {
     "name": "stdout",
     "output_type": "stream",
     "text": [
      "following are the features whose % change is more then thershold with their weight values :\n",
      "  cappuccino\t--> \t0.000232\n",
      "     retired\t--> \t-0.001562\n",
      "       irish\t--> \t0.001712\n",
      "        jams\t--> \t-0.001713\n",
      "   organisms\t--> \t0.001988\n",
      "      afford\t--> \t-0.002565\n",
      "       pears\t--> \t-0.003787\n",
      "          ol\t--> \t-0.004128\n",
      "     compact\t--> \t0.004903\n",
      "      loaded\t--> \t0.005123\n",
      "     insulin\t--> \t-0.006000\n",
      "         flu\t--> \t0.007854\n",
      "     namaste\t--> \t-0.008406\n",
      "    believer\t--> \t0.008814\n",
      "        sooo\t--> \t0.008923\n",
      "        peel\t--> \t-0.011433\n",
      "       stone\t--> \t0.012574\n",
      "   walgreens\t--> \t-0.012862\n",
      "   stonewall\t--> \t0.012894\n",
      "    possibly\t--> \t-0.013180\n",
      "       decay\t--> \t0.013281\n",
      "      infant\t--> \t-0.014454\n",
      "   cupboards\t--> \t0.014800\n",
      "     closing\t--> \t-0.014819\n",
      "    wasteful\t--> \t-0.015200\n",
      "    response\t--> \t-0.015574\n",
      "   sweetners\t--> \t0.015606\n",
      "        rain\t--> \t0.015904\n",
      "   producers\t--> \t-0.017439\n",
      "       acids\t--> \t0.018480\n",
      "     italian\t--> \t0.018608\n",
      "        blog\t--> \t-0.019548\n",
      "      tended\t--> \t0.020163\n",
      "       fruit\t--> \t0.020521\n",
      "   dressings\t--> \t0.022530\n",
      "     belgium\t--> \t0.023348\n",
      "         fit\t--> \t0.025279\n",
      "      pantry\t--> \t0.025287\n",
      "     buddies\t--> \t0.025396\n",
      "       stews\t--> \t0.025728\n",
      "      gluten\t--> \t0.025877\n",
      "       holes\t--> \t-0.026811\n",
      "    cultures\t--> \t-0.032924\n",
      "       moist\t--> \t0.034467\n",
      "      indian\t--> \t-0.037078\n",
      "      hardly\t--> \t-0.037917\n",
      "    everyone\t--> \t0.047448\n",
      "        grew\t--> \t0.048885\n",
      "        long\t--> \t0.064548\n"
     ]
    }
   ],
   "source": [
    "absolute_weights = np.absolute(W_before_epsilon)\n",
    "sorted_absolute_index = np.argsort(absolute_weights)[:,::1]\n",
    "top_index = sorted_absolute_index[0,listt]\n",
    "\n",
    "all_features = count_vect.get_feature_names()\n",
    "weight_values = lr.coef_\n",
    "\n",
    "# Top 10 features are    \n",
    "print(\"following are the features whose % change is more then thershold with their weight values :\")\n",
    "\n",
    "for j in top_index:\n",
    "    print(\"%12s\\t--> \\t%f\"%(all_features[j],weight_values[0,j]))"
   ]
  },
  {
   "cell_type": "markdown",
   "metadata": {},
   "source": [
    "#### OBSERVATION :- After observing above percentile scores we can conclude that there is some significant change in the weights of the both vectors so we will disgard them by seeting the thershold and for rest we will use absolute value of weights(|w|) for important featuresb extraction."
   ]
  },
  {
   "cell_type": "markdown",
   "metadata": {},
   "source": [
    "### [5.1.3] Feature Importance on BOW,<font color='red'> SET 1</font>"
   ]
  },
  {
   "cell_type": "markdown",
   "metadata": {},
   "source": [
    "#### [5.1.3.1] Top 10 important features of positive class from<font color='red'> SET 1</font>"
   ]
  },
  {
   "cell_type": "code",
   "execution_count": 49,
   "metadata": {},
   "outputs": [
    {
     "name": "stdout",
     "output_type": "stream",
     "text": [
      "Top 10 features with their weight values :\n",
      "       great\t--> \t0.418346\n",
      "         not\t--> \t-0.286182\n",
      "        best\t--> \t0.283014\n",
      "        good\t--> \t0.264914\n",
      "        love\t--> \t0.255343\n",
      "   delicious\t--> \t0.250368\n",
      "       loves\t--> \t0.204715\n",
      "     perfect\t--> \t0.191873\n",
      "   wonderful\t--> \t0.188446\n",
      "   excellent\t--> \t0.177017\n"
     ]
    }
   ],
   "source": [
    "# \n",
    "absolute_weights = np.absolute(W_before_epsilon)\n",
    "sorted_absolute_index = np.argsort(absolute_weights)[:,::-1]\n",
    "top_index = sorted_absolute_index[0,0:10]\n",
    "\n",
    "all_features = count_vect.get_feature_names()\n",
    "weight_values = lr.coef_\n",
    "\n",
    "# Top 10 features are    \n",
    "print(\"Top 10 positive features with their weight values :\")\n",
    "\n",
    "for j in top_index:\n",
    "    print(\"%12s\\t--> \\t%f\"%(all_features[j],weight_values[0,j]))"
   ]
  },
  {
   "cell_type": "markdown",
   "metadata": {},
   "source": [
    "#### [5.1.3.2] Top 10 important features of negative class from<font color='red'> SET 1</font>"
   ]
  },
  {
   "cell_type": "code",
   "execution_count": 51,
   "metadata": {},
   "outputs": [
    {
     "name": "stdout",
     "output_type": "stream",
     "text": [
      "Top 10 negative features with their weight values :\n",
      " predominant\t--> \t0.000011\n",
      "         gel\t--> \t-0.000011\n",
      "      cookie\t--> \t-0.000024\n",
      "    parmesan\t--> \t-0.000027\n",
      "    handfuls\t--> \t-0.000029\n",
      "       outer\t--> \t0.000030\n",
      "subsequently\t--> \t-0.000031\n",
      "      appear\t--> \t-0.000031\n",
      "   memorable\t--> \t-0.000032\n",
      "        herb\t--> \t0.000037\n"
     ]
    }
   ],
   "source": [
    "\n",
    "absolute_weights = np.absolute(W_before_epsilon)\n",
    "sorted_absolute_index = np.argsort(absolute_weights)[:,::1]\n",
    "top_index = sorted_absolute_index[0,0:10]\n",
    "\n",
    "all_features = count_vect.get_feature_names()\n",
    "weight_values = lr.coef_\n",
    "\n",
    "# Top 10 features are    \n",
    "print(\"Top 10 negative features with their weight values :\")\n",
    "\n",
    "for j in top_index:\n",
    "    print(\"%12s\\t--> \\t%f\"%(all_features[j],weight_values[0,j]))"
   ]
  },
  {
   "cell_type": "markdown",
   "metadata": {},
   "source": [
    "## [5.2] Logistic Regression on TFIDF,<font color='red'> SET 2</font>"
   ]
  },
  {
   "cell_type": "markdown",
   "metadata": {},
   "source": [
    "### [5.2.1] Applying Logistic Regression with L1 regularization on TFIDF,<font color='red'> SET 2</font>"
   ]
  },
  {
   "cell_type": "code",
   "execution_count": 36,
   "metadata": {},
   "outputs": [
    {
     "name": "stdout",
     "output_type": "stream",
     "text": [
      "the type of count vectorizer : <class 'list'>\n",
      "the shape of out text BOW vectorizer :  (43008, 25574)\n",
      "the number of unique words : 25574\n"
     ]
    }
   ],
   "source": [
    "#code for VECTORIZER\n",
    "count_vect  = TfidfVectorizer(ngram_range=(1,2), min_df=10)\n",
    "\n",
    "Xbow_tr = count_vect.fit_transform(X_tr)\n",
    "Xbow_test = count_vect.transform(X_test)\n",
    "Xbow_cv = count_vect.transform(X_cv)\n",
    "print(\"the type of count vectorizer :\",type(X_tr))\n",
    "print(\"the shape of out text BOW vectorizer : \",Xbow_tr.get_shape())\n",
    "print(\"the number of unique words :\", Xbow_tr.get_shape()[1])"
   ]
  },
  {
   "cell_type": "code",
   "execution_count": 37,
   "metadata": {},
   "outputs": [],
   "source": [
    "# Data-preprocessing: Standardizing the data\n",
    "import warnings\n",
    "warnings.filterwarnings('ignore')\n",
    "\n",
    "\n",
    "from sklearn.preprocessing import StandardScaler\n",
    "sc = StandardScaler(with_mean=False)\n",
    "Xbow_tr_std = sc.fit_transform(Xbow_tr)\n",
    "Xbow_test_std = sc.transform(Xbow_test)\n",
    "Xbow_cv_std = sc.fit_transform(Xbow_cv)"
   ]
  },
  {
   "cell_type": "code",
   "execution_count": 86,
   "metadata": {},
   "outputs": [],
   "source": [
    "#code for hyperparameter tuning\n",
    "import numpy as np\n",
    "hyper = []\n",
    "i = 0.0001\n",
    "while(i<=10000):\n",
    "    hyper.append(np.round(i,4))\n",
    "    i *= 10\n",
    "\n",
    "auc1=[]\n",
    "auc2=[]\n",
    "\n",
    "for j in hyper:\n",
    "  \n",
    "    model = LogisticRegression(penalty='l1',C=j)\n",
    "    model.fit(Xbow_tr_std, y_tr)\n",
    "    \n",
    "    probs = model.predict_proba(Xbow_tr_std)\n",
    "    preds = probs[:,1]\n",
    "    roc_auc1=metrics.roc_auc_score(y_tr, preds)\n",
    "    auc1.append(roc_auc1)\n",
    "    \n",
    "  \n",
    "    probs = model.predict_proba(Xbow_cv_std)\n",
    "    preds = probs[:,1]\n",
    "    roc_auc2=metrics.roc_auc_score(y_cv, preds)\n",
    "    auc2.append(roc_auc2)\n",
    "    \n",
    "    \n",
    "\n",
    "    "
   ]
  },
  {
   "cell_type": "code",
   "execution_count": 88,
   "metadata": {},
   "outputs": [
    {
     "name": "stdout",
     "output_type": "stream",
     "text": [
      "[0.0001, 0.001, 0.01, 0.1, 1.0, 10.0, 100.0, 1000.0, 10000.0]\n",
      "--------------------------------------------------------------------------------------------\n",
      "[0.5, 0.858566715958409, 0.9787848946200106, 0.99995249380891, 0.9999976112649991, 0.999997611264999, 0.999997611264999, 0.999997611264999, 0.999997611264999]\n",
      "--------------------------------------------------------------------------------------------\n",
      "------------------------------------------------------------------------------------------\n",
      "[0.5, 0.8541417319014037, 0.955485280966761, 0.9445213212025594, 0.9378023367462005, 0.934448795600838, 0.9243751286955627, 0.9136772013549904, 0.9132784190237084]\n"
     ]
    },
    {
     "data": {
      "image/png": "[encoded data removed]",
      "text/plain": [
       "<Figure size 432x288 with 1 Axes>"
      ]
     },
     "metadata": {},
     "output_type": "display_data"
    }
   ],
   "source": [
    "#code for plotting graph\n",
    "print(hyper)\n",
    "\n",
    "print('--------------------------------------------------------------------------------------------')\n",
    "print(auc1)\n",
    "\n",
    "print('--------------------------------------------------------------------------------------------')\n",
    "print('------------------------------------------------------------------------------------------')\n",
    "print(auc2)\n",
    "\n",
    "plt.title('AUC on train and  C.V for varoius value of C=(1/LAMBDA) on TFIDF',size=16)\n",
    "plt.plot(hyper, auc1,'g',label ='Train')\n",
    "plt.plot(hyper, auc2,'r',label ='C.V')\n",
    "\n",
    "plt.ylabel('AUC',size=10)\n",
    "plt.xlabel('C=(1/LAMBDA)',size=10)\n",
    "plt.grid()\n",
    "plt.legend()\n",
    "plt.show()\n"
   ]
  },
  {
   "cell_type": "code",
   "execution_count": 38,
   "metadata": {},
   "outputs": [
    {
     "name": "stdout",
     "output_type": "stream",
     "text": [
      "\n",
      "The accuracy of the LOGISTIC Regression classifier with L1 regulariser for alpha ON TFIDF = 0.100000 is 91.542610%\n"
     ]
    }
   ],
   "source": [
    "# L.R with optimal c\n",
    "lr = LogisticRegression(penalty='l1',C=.1)\n",
    "\n",
    "# fitting the model\n",
    "lr.fit(Xbow_tr_std, y_tr)\n",
    "\n",
    "# predict the response\n",
    "pred = lr.predict(Xbow_test_std)\n",
    "\n",
    "# evaluate accuracy\n",
    "acc = accuracy_score(y_test, pred) * 100\n",
    "print('\\nThe accuracy of the LOGISTIC Regression classifier with L1 regulariser for alpha ON TFIDF = %f is %f%%' % (0.1, acc))"
   ]
  },
  {
   "cell_type": "code",
   "execution_count": 39,
   "metadata": {},
   "outputs": [
    {
     "data": {
      "image/png": "[encoded data removed]",
      "text/plain": [
       "<Figure size 720x504 with 2 Axes>"
      ]
     },
     "metadata": {},
     "output_type": "display_data"
    }
   ],
   "source": [
    "# Code for drawing seaborn heatmaps\n",
    "class_names = ['negative','positive']\n",
    "df_heatmap = pd.DataFrame(confusion_matrix(y_test, pred), index=class_names, columns=class_names )\n",
    "fig = plt.figure(figsize=(10,7))\n",
    "heatmap = sns.heatmap(df_heatmap, annot=True, fmt=\"d\")\n",
    "\n",
    "# Setting tick labels for heatmap\n",
    "heatmap.yaxis.set_ticklabels(heatmap.yaxis.get_ticklabels(), rotation=0, ha='right', fontsize=14)\n",
    "heatmap.xaxis.set_ticklabels(heatmap.xaxis.get_ticklabels(), rotation=0, ha='right', fontsize=14)\n",
    "plt.ylabel('Predicted label',size=18)\n",
    "plt.xlabel('True label',size=18)\n",
    "plt.title(\"Confusion Matrix  applying Logistic reg. on TFIDF FOR L1\\n\",size=24)\n",
    "plt.show()"
   ]
  },
  {
   "cell_type": "code",
   "execution_count": 41,
   "metadata": {},
   "outputs": [],
   "source": [
    "\n",
    "probs2 = lr.predict_proba(Xbow_tr)\n",
    "preds2 = probs2[:,1]\n",
    "fpr2, tpr2, threshold2 = metrics.roc_curve(y_tr, preds2)\n",
    "roc_auc2 = metrics.auc(fpr2, tpr2)\n",
    "\n",
    "\n",
    "probs1 = lr.predict_proba(Xbow_test)\n",
    "preds1 = probs1[:,1]\n",
    "fpr1, tpr1, threshold1 = metrics.roc_curve(y_test, preds1)\n",
    "roc_auc1 = metrics.auc(fpr1, tpr1)\n",
    "\n"
   ]
  },
  {
   "cell_type": "code",
   "execution_count": 42,
   "metadata": {},
   "outputs": [
    {
     "data": {
      "image/png": "[encoded data removed]",
      "text/plain": [
       "<Figure size 432x288 with 1 Axes>"
      ]
     },
     "metadata": {},
     "output_type": "display_data"
    }
   ],
   "source": [
    "plt.title('Receiver Operating Characteristic on train and test')\n",
    "plt.plot(fpr1, tpr1, 'b', label = 'AUC = %0.2f' % roc_auc1)\n",
    "plt.plot(fpr2, tpr2, 'g', label = 'AUC = %0.2f' % roc_auc2)\n",
    "#plt.plot(neighbors, auc1,'g')\n",
    "#plt.plot(neighbors, auc2,'r')\n",
    "plt.legend(loc = 'lower right')\n",
    "plt.plot([0, 1], [0, 1],'r--')\n",
    "plt.ylabel('True Positive Rate')\n",
    "plt.xlabel('False Positive Rate')\n",
    "plt.show()"
   ]
  },
  {
   "cell_type": "code",
   "execution_count": 91,
   "metadata": {},
   "outputs": [
    {
     "name": "stdout",
     "output_type": "stream",
     "text": [
      "8065\n"
     ]
    }
   ],
   "source": [
    "# SPARCITY OF our model ON C=0.1\n",
    "\n",
    "w = lr.coef_\n",
    "print(np.count_nonzero(w))"
   ]
  },
  {
   "cell_type": "markdown",
   "metadata": {},
   "source": [
    "### [5.2.2] Applying Logistic Regression with L2 regularization on TFIDF,<font color='red'> SET 2</font>"
   ]
  },
  {
   "cell_type": "code",
   "execution_count": 93,
   "metadata": {},
   "outputs": [],
   "source": [
    "#code for hyperparameter tuning\n",
    "import numpy as np\n",
    "hyper = []\n",
    "i = 0.0001\n",
    "while(i<=10000):\n",
    "    hyper.append(np.round(i,4))\n",
    "    i *= 10\n",
    "\n",
    "auc1=[]\n",
    "auc2=[]\n",
    "\n",
    "for j in hyper:\n",
    "  \n",
    "    model = LogisticRegression(penalty='l2',C=j)\n",
    "    model.fit(Xbow_tr_std, y_tr)\n",
    "    \n",
    "    probs = model.predict_proba(Xbow_tr_std)\n",
    "    preds = probs[:,1]\n",
    "    roc_auc1=metrics.roc_auc_score(y_tr, preds)\n",
    "    auc1.append(roc_auc1)\n",
    "    \n",
    "  \n",
    "    probs = model.predict_proba(Xbow_cv_std)\n",
    "    preds = probs[:,1]\n",
    "    roc_auc2=metrics.roc_auc_score(y_cv, preds)\n",
    "    auc2.append(roc_auc2)\n",
    "    \n",
    "    \n",
    "\n",
    "    "
   ]
  },
  {
   "cell_type": "code",
   "execution_count": 94,
   "metadata": {},
   "outputs": [
    {
     "name": "stdout",
     "output_type": "stream",
     "text": [
      "[0.0001, 0.001, 0.01, 0.1, 1.0, 10.0, 100.0, 1000.0, 10000.0]\n",
      "--------------------------------------------------------------------------------------------\n",
      "[0.9966186033957899, 0.9999539099448973, 0.9999976072870889, 0.999997611264999, 0.999997611264999, 0.999997611264999, 0.999997611264999, 0.999997611264999, 0.999997611264999]\n",
      "--------------------------------------------------------------------------------------------\n",
      "------------------------------------------------------------------------------------------\n",
      "[0.9490524158765804, 0.9420283338063765, 0.9331299269530944, 0.928443082387421, 0.9251780629196085, 0.9212810112827747, 0.9196344037325886, 0.9194293386578514, 0.9194082082377683]\n"
     ]
    },
    {
     "data": {
      "image/png": "[encoded data removed]",
      "text/plain": [
       "<Figure size 432x288 with 1 Axes>"
      ]
     },
     "metadata": {},
     "output_type": "display_data"
    }
   ],
   "source": [
    "#code for plotting graph\n",
    "print(hyper)\n",
    "\n",
    "print('--------------------------------------------------------------------------------------------')\n",
    "print(auc1)\n",
    "\n",
    "print('--------------------------------------------------------------------------------------------')\n",
    "print('------------------------------------------------------------------------------------------')\n",
    "print(auc2)\n",
    "\n",
    "plt.title('AUC on train and  C.V for varoius value of C=(1/LAMBDA) FOR L2',size=16)\n",
    "plt.plot(hyper, auc1,'g',label ='Train')\n",
    "plt.plot(hyper, auc2,'r',label ='C.V')\n",
    "\n",
    "plt.ylabel('AUC',size=10)\n",
    "plt.xlabel('C=(1/LAMBDA)',size=10)\n",
    "plt.grid()\n",
    "plt.legend()\n",
    "plt.show()\n"
   ]
  },
  {
   "cell_type": "code",
   "execution_count": 43,
   "metadata": {},
   "outputs": [
    {
     "name": "stdout",
     "output_type": "stream",
     "text": [
      "\n",
      "The accuracy of the LOGISTIC Regression classifier with L2 regulariser for alpha ON TFIDF= 0.100000 is 90.464074%\n"
     ]
    }
   ],
   "source": [
    "# L.R with optimal c\n",
    "lr = LogisticRegression(penalty='l2',C=.1)\n",
    "\n",
    "# fitting the model\n",
    "lr.fit(Xbow_tr_std, y_tr)\n",
    "\n",
    "# predict the response\n",
    "pred = lr.predict(Xbow_test_std)\n",
    "\n",
    "# evaluate accuracy\n",
    "acc = accuracy_score(y_test, pred) * 100\n",
    "print('\\nThe accuracy of the LOGISTIC Regression classifier with L2 regulariser for alpha ON TFIDF= %f is %f%%' % (0.1, acc))"
   ]
  },
  {
   "cell_type": "code",
   "execution_count": 97,
   "metadata": {},
   "outputs": [
    {
     "data": {
      "image/png": "[encoded data removed]",
      "text/plain": [
       "<Figure size 720x504 with 2 Axes>"
      ]
     },
     "metadata": {},
     "output_type": "display_data"
    }
   ],
   "source": [
    "# Code for drawing seaborn heatmaps\n",
    "class_names = ['negative','positive']\n",
    "df_heatmap = pd.DataFrame(confusion_matrix(y_test, pred), index=class_names, columns=class_names )\n",
    "fig = plt.figure(figsize=(10,7))\n",
    "heatmap = sns.heatmap(df_heatmap, annot=True, fmt=\"d\")\n",
    "\n",
    "# Setting tick labels for heatmap\n",
    "heatmap.yaxis.set_ticklabels(heatmap.yaxis.get_ticklabels(), rotation=0, ha='right', fontsize=14)\n",
    "heatmap.xaxis.set_ticklabels(heatmap.xaxis.get_ticklabels(), rotation=0, ha='right', fontsize=14)\n",
    "plt.ylabel('Predicted label',size=18)\n",
    "plt.xlabel('True label',size=18)\n",
    "plt.title(\"Confusion Matrix  applying Logistic reg. on TFIDF FOR L2\\n\",size=24)\n",
    "plt.show()"
   ]
  },
  {
   "cell_type": "code",
   "execution_count": 44,
   "metadata": {},
   "outputs": [],
   "source": [
    "\n",
    "probs2 = lr.predict_proba(Xbow_tr)\n",
    "preds2 = probs2[:,1]\n",
    "fpr2, tpr2, threshold2 = metrics.roc_curve(y_tr, preds2)\n",
    "roc_auc2 = metrics.auc(fpr2, tpr2)\n",
    "\n",
    "\n",
    "probs1 = lr.predict_proba(Xbow_test)\n",
    "preds1 = probs1[:,1]\n",
    "fpr1, tpr1, threshold1 = metrics.roc_curve(y_test, preds1)\n",
    "roc_auc1 = metrics.auc(fpr1, tpr1)\n",
    "\n"
   ]
  },
  {
   "cell_type": "code",
   "execution_count": 45,
   "metadata": {},
   "outputs": [
    {
     "data": {
      "image/png": "[encoded data removed]",
      "text/plain": [
       "<Figure size 432x288 with 1 Axes>"
      ]
     },
     "metadata": {},
     "output_type": "display_data"
    }
   ],
   "source": [
    "plt.title('Receiver Operating Characteristic on train and test')\n",
    "plt.plot(fpr1, tpr1, 'b', label = 'AUC = %0.2f' % roc_auc1)\n",
    "plt.plot(fpr2, tpr2, 'g', label = 'AUC = %0.2f' % roc_auc2)\n",
    "#plt.plot(neighbors, auc1,'g')\n",
    "#plt.plot(neighbors, auc2,'r')\n",
    "plt.legend(loc = 'lower right')\n",
    "plt.plot([0, 1], [0, 1],'r--')\n",
    "plt.ylabel('True Positive Rate')\n",
    "plt.xlabel('False Positive Rate')\n",
    "plt.show()"
   ]
  },
  {
   "cell_type": "code",
   "execution_count": 98,
   "metadata": {},
   "outputs": [
    {
     "name": "stdout",
     "output_type": "stream",
     "text": [
      "25558\n"
     ]
    }
   ],
   "source": [
    "# SPARCITY OF our model 0.1\n",
    "\n",
    "w = lr.coef_\n",
    "print(np.count_nonzero(w))"
   ]
  },
  {
   "cell_type": "markdown",
   "metadata": {},
   "source": [
    "### [5.2.3] Feature Importance on TFIDF,<font color='red'> SET 2</font>"
   ]
  },
  {
   "cell_type": "markdown",
   "metadata": {},
   "source": [
    "#### [5.2.3.1] Top 10 important features of positive class from<font color='red'> SET 2</font>"
   ]
  },
  {
   "cell_type": "code",
   "execution_count": 99,
   "metadata": {},
   "outputs": [
    {
     "name": "stdout",
     "output_type": "stream",
     "text": [
      "Top 10 positive features with their weight values :\n",
      "       great\t--> \t0.509370\n",
      "        good\t--> \t0.390985\n",
      "        best\t--> \t0.367312\n",
      "        love\t--> \t0.365130\n",
      "   delicious\t--> \t0.338409\n",
      "disappointed\t--> \t-0.308965\n",
      "       worst\t--> \t-0.277353\n",
      "    not good\t--> \t-0.264939\n",
      "     perfect\t--> \t0.264251\n",
      "        nice\t--> \t0.258491\n"
     ]
    }
   ],
   "source": [
    "absolute_weights = np.absolute(w)\n",
    "sorted_absolute_index = np.argsort(absolute_weights)[:,::-1]\n",
    "top_index = sorted_absolute_index[0,0:10]\n",
    "\n",
    "all_features = count_vect.get_feature_names()\n",
    "weight_values = lr.coef_\n",
    "\n",
    "  \n",
    "print(\"Top 10 positive features with their weight values :\")\n",
    "\n",
    "for j in top_index:\n",
    "    print(\"%12s\\t--> \\t%f\"%(all_features[j],weight_values[0,j]))"
   ]
  },
  {
   "cell_type": "markdown",
   "metadata": {},
   "source": [
    "#### [5.2.3.2] Top 10 important features of negative class from<font color='red'> SET 2</font>"
   ]
  },
  {
   "cell_type": "code",
   "execution_count": 100,
   "metadata": {},
   "outputs": [
    {
     "name": "stdout",
     "output_type": "stream",
     "text": [
      "Top 10 negative features with their weight values :\n",
      "   took back\t--> \t0.000004\n",
      "     anxious\t--> \t0.000008\n",
      "crackers taste\t--> \t-0.000010\n",
      " like bottle\t--> \t0.000011\n",
      "   first try\t--> \t-0.000011\n",
      "certainly recommend\t--> \t-0.000013\n",
      "  iced green\t--> \t-0.000013\n",
      " stuff could\t--> \t-0.000013\n",
      " much really\t--> \t0.000014\n",
      "   free love\t--> \t0.000015\n"
     ]
    }
   ],
   "source": [
    "absolute_weights = np.absolute(w)\n",
    "sorted_absolute_index = np.argsort(absolute_weights)[:,::1]\n",
    "top_index = sorted_absolute_index[0,0:10]\n",
    "\n",
    "all_features = count_vect.get_feature_names()\n",
    "weight_values = lr.coef_\n",
    "\n",
    "# Top 10 features are    \n",
    "print(\"Top 10 negative features with their weight values :\")\n",
    "\n",
    "for j in top_index:\n",
    "    print(\"%12s\\t--> \\t%f\"%(all_features[j],weight_values[0,j]))"
   ]
  },
  {
   "cell_type": "markdown",
   "metadata": {},
   "source": [
    "## [5.3] Logistic Regression on AVG W2V,<font color='red'> SET 3</font>"
   ]
  },
  {
   "cell_type": "code",
   "execution_count": 46,
   "metadata": {},
   "outputs": [
    {
     "name": "stdout",
     "output_type": "stream",
     "text": [
      "number of words that occured minimum 5 times  12675\n"
     ]
    }
   ],
   "source": [
    "# List of sentence in X_train text\n",
    "sent_of_train=[]\n",
    "for sent in X_tr:\n",
    "    sent_of_train.append(sent.split())\n",
    "\n",
    "# List of sentence in X_est text\n",
    "sent_of_test=[]\n",
    "for sent in X_test:\n",
    "    sent_of_test.append(sent.split())   \n",
    "    \n",
    "    sent_of_cv=[]\n",
    "for sent in X_cv:\n",
    "    sent_of_cv.append(sent.split())   \n",
    "    \n",
    "# Train your own Word2Vec model using your own train text corpus \n",
    "# min_count = 5 considers only words that occured atleast 5 times\n",
    "w2v_model=Word2Vec(sent_of_train,min_count=5,size=50, workers=4)\n",
    "\n",
    "w2v_words = list(w2v_model.wv.vocab)\n",
    "print(\"number of words that occured minimum 5 times \",len(w2v_words))"
   ]
  },
  {
   "cell_type": "code",
   "execution_count": 47,
   "metadata": {},
   "outputs": [],
   "source": [
    "# compute average word2vec for each review for X_train .\n",
    "Xbow_tr = []; \n",
    "for sent in sent_of_train:\n",
    "    sent_vec = np.zeros(50) \n",
    "    cnt_words =0; \n",
    "    for word in sent: # \n",
    "        if word in w2v_words:\n",
    "            vec = w2v_model.wv[word]\n",
    "            sent_vec += vec\n",
    "            cnt_words += 1\n",
    "    if cnt_words != 0:\n",
    "        sent_vec /= cnt_words\n",
    "    Xbow_tr.append(sent_vec)\n",
    "    \n",
    "# compute average word2vec for each review for X_test .\n",
    "Xbow_test = []; \n",
    "for sent in sent_of_test:\n",
    "    sent_vec = np.zeros(50) \n",
    "    cnt_words =0; \n",
    "    for word in sent: # \n",
    "        if word in w2v_words:\n",
    "            vec = w2v_model.wv[word]\n",
    "            sent_vec += vec\n",
    "            cnt_words += 1\n",
    "    if cnt_words != 0:\n",
    "        sent_vec /= cnt_words\n",
    "    Xbow_test.append(sent_vec)\n",
    "  #gdfghsdgfsdgfhsdgfdhsgfhgdhgfhdghfg\n",
    "\n",
    "\n",
    "    Xbow_cv = []; \n",
    "for sent in sent_of_cv:\n",
    "    sent_vec = np.zeros(50) \n",
    "    cnt_words =0; \n",
    "    for word in sent: # \n",
    "        if word in w2v_words:\n",
    "            vec = w2v_model.wv[word]\n",
    "            sent_vec += vec\n",
    "            cnt_words += 1\n",
    "    if cnt_words != 0:\n",
    "        sent_vec /= cnt_words\n",
    "    Xbow_cv.append(sent_vec)"
   ]
  },
  {
   "cell_type": "code",
   "execution_count": 48,
   "metadata": {},
   "outputs": [],
   "source": [
    "import warnings\n",
    "warnings.filterwarnings('ignore')\n",
    "# Data-preprocessing: Standardizing the data\n",
    "\n",
    "from sklearn.preprocessing import StandardScaler\n",
    "sc = StandardScaler(with_mean=False)\n",
    "Xbow_tr_std = sc.fit_transform(Xbow_tr)\n",
    "Xbow_test_std = sc.transform(Xbow_test)\n",
    "Xbow_cv_std = sc.fit_transform(Xbow_cv)"
   ]
  },
  {
   "cell_type": "markdown",
   "metadata": {},
   "source": [
    "### [5.3.1] Applying Logistic Regression with L1 regularization on AVG W2V<font color='red'> SET 3</font>"
   ]
  },
  {
   "cell_type": "code",
   "execution_count": 111,
   "metadata": {},
   "outputs": [],
   "source": [
    "import numpy as np\n",
    "hyper = []\n",
    "i = 0.0001\n",
    "while(i<=10000):\n",
    "    hyper.append(np.round(i,4))\n",
    "    i *= 10\n",
    "\n",
    "auc1=[]\n",
    "auc2=[]\n",
    "\n",
    "for j in hyper:\n",
    "  \n",
    "    model = LogisticRegression(penalty='l1',C=j)\n",
    "    model.fit(Xbow_tr_std, y_tr)\n",
    "    \n",
    "    probs = model.predict_proba(Xbow_tr_std)\n",
    "    preds = probs[:,1]\n",
    "    roc_auc1=metrics.roc_auc_score(y_tr, preds)\n",
    "    auc1.append(roc_auc1)\n",
    "    \n",
    "  \n",
    "    probs = model.predict_proba(Xbow_cv_std)\n",
    "    preds = probs[:,1]\n",
    "    roc_auc2=metrics.roc_auc_score(y_cv, preds)\n",
    "    auc2.append(roc_auc2)\n",
    "    \n",
    "    \n",
    "\n",
    "    "
   ]
  },
  {
   "cell_type": "code",
   "execution_count": 112,
   "metadata": {},
   "outputs": [
    {
     "name": "stdout",
     "output_type": "stream",
     "text": [
      "[0.0001, 0.001, 0.01, 0.1, 1.0, 10.0, 100.0, 1000.0, 10000.0]\n",
      "--------------------------------------------------------------------------------------------\n",
      "[0.6360978445268614, 0.8724850991168097, 0.8983952681136652, 0.9007941308737268, 0.9008314516260656, 0.9008309981443169, 0.9008307674255325, 0.9008301826727512, 0.9008331263262078]\n",
      "--------------------------------------------------------------------------------------------\n",
      "------------------------------------------------------------------------------------------\n",
      "[0.6310039849537497, 0.8712481873925653, 0.8990942984561402, 0.9010831231595665, 0.9010933405437631, 0.9010831014204512, 0.9010815796823795, 0.9010817101170713, 0.9011086231418274]\n"
     ]
    },
    {
     "data": {
      "image/png": "[encoded data removed]",
      "text/plain": [
       "<Figure size 432x288 with 1 Axes>"
      ]
     },
     "metadata": {},
     "output_type": "display_data"
    }
   ],
   "source": [
    "print(hyper)\n",
    "\n",
    "print('--------------------------------------------------------------------------------------------')\n",
    "print(auc1)\n",
    "\n",
    "print('--------------------------------------------------------------------------------------------')\n",
    "print('------------------------------------------------------------------------------------------')\n",
    "print(auc2)\n",
    "\n",
    "plt.title('AUC on train and  C.V for varoius value of C=(1/LAMBDA) on AvgW2V with L1',size=16)\n",
    "plt.plot(hyper, auc1,'g',label ='Train')\n",
    "plt.plot(hyper, auc2,'r',label ='C.V')\n",
    "\n",
    "plt.ylabel('AUC',size=10)\n",
    "plt.xlabel('C=(1/LAMBDA)',size=10)\n",
    "plt.grid()\n",
    "plt.legend()\n",
    "plt.show()\n"
   ]
  },
  {
   "cell_type": "code",
   "execution_count": 49,
   "metadata": {},
   "outputs": [
    {
     "name": "stdout",
     "output_type": "stream",
     "text": [
      "\n",
      "The accuracy of the LOGISTIC Regression classifier with L1 regulariser for alpha on AvgW2V = 0.100000 is 88.466505%\n"
     ]
    }
   ],
   "source": [
    "# L.R with optimal c\n",
    "lr = LogisticRegression(penalty='l1',C=.1)\n",
    "\n",
    "# fitting the model\n",
    "lr.fit(Xbow_tr_std, y_tr)\n",
    "\n",
    "# predict the response\n",
    "pred = lr.predict(Xbow_test_std)\n",
    "\n",
    "# evaluate accuracy\n",
    "acc = accuracy_score(y_test, pred) * 100\n",
    "print('\\nThe accuracy of the LOGISTIC Regression classifier with L1 regulariser for alpha on AvgW2V = %f is %f%%' % (0.1, acc))"
   ]
  },
  {
   "cell_type": "code",
   "execution_count": 115,
   "metadata": {},
   "outputs": [
    {
     "data": {
      "image/png": "[encoded data removed]",
      "text/plain": [
       "<Figure size 720x504 with 2 Axes>"
      ]
     },
     "metadata": {},
     "output_type": "display_data"
    }
   ],
   "source": [
    "# Code for drawing seaborn heatmaps\n",
    "class_names = ['negative','positive']\n",
    "df_heatmap = pd.DataFrame(confusion_matrix(y_test, pred), index=class_names, columns=class_names )\n",
    "fig = plt.figure(figsize=(10,7))\n",
    "heatmap = sns.heatmap(df_heatmap, annot=True, fmt=\"d\")\n",
    "\n",
    "# Setting tick labels for heatmap\n",
    "heatmap.yaxis.set_ticklabels(heatmap.yaxis.get_ticklabels(), rotation=0, ha='right', fontsize=14)\n",
    "heatmap.xaxis.set_ticklabels(heatmap.xaxis.get_ticklabels(), rotation=0, ha='right', fontsize=14)\n",
    "plt.ylabel('Predicted label',size=18)\n",
    "plt.xlabel('True label',size=18)\n",
    "plt.title(\"Confusion Matrix  applying Logistic reg. on AvgW2V FOR L1 \\n\",size=24)\n",
    "plt.show()"
   ]
  },
  {
   "cell_type": "code",
   "execution_count": 50,
   "metadata": {},
   "outputs": [],
   "source": [
    "\n",
    "probs2 = lr.predict_proba(Xbow_tr)\n",
    "preds2 = probs2[:,1]\n",
    "fpr2, tpr2, threshold2 = metrics.roc_curve(y_tr, preds2)\n",
    "roc_auc2 = metrics.auc(fpr2, tpr2)\n",
    "\n",
    "\n",
    "probs1 = lr.predict_proba(Xbow_test)\n",
    "preds1 = probs1[:,1]\n",
    "fpr1, tpr1, threshold1 = metrics.roc_curve(y_test, preds1)\n",
    "roc_auc1 = metrics.auc(fpr1, tpr1)\n",
    "\n"
   ]
  },
  {
   "cell_type": "code",
   "execution_count": 51,
   "metadata": {},
   "outputs": [
    {
     "data": {
      "image/png": "[encoded data removed]",
      "text/plain": [
       "<Figure size 432x288 with 1 Axes>"
      ]
     },
     "metadata": {},
     "output_type": "display_data"
    }
   ],
   "source": [
    "plt.title('Receiver Operating Characteristic on train and test')\n",
    "plt.plot(fpr1, tpr1, 'b', label = 'AUC = %0.2f' % roc_auc1)\n",
    "plt.plot(fpr2, tpr2, 'g', label = 'AUC = %0.2f' % roc_auc2)\n",
    "#plt.plot(neighbors, auc1,'g')\n",
    "#plt.plot(neighbors, auc2,'r')\n",
    "plt.legend(loc = 'lower right')\n",
    "plt.plot([0, 1], [0, 1],'r--')\n",
    "plt.ylabel('True Positive Rate')\n",
    "plt.xlabel('False Positive Rate')\n",
    "plt.show()"
   ]
  },
  {
   "cell_type": "code",
   "execution_count": 116,
   "metadata": {},
   "outputs": [
    {
     "name": "stdout",
     "output_type": "stream",
     "text": [
      "49\n"
     ]
    }
   ],
   "source": [
    "# SPARCITY OF our model 0.1\n",
    "\n",
    "w = lr.coef_\n",
    "print(np.count_nonzero(w))"
   ]
  },
  {
   "cell_type": "markdown",
   "metadata": {},
   "source": [
    "### [5.3.2] Applying Logistic Regression with L2 regularization on AVG W2V,<font color='red'> SET 3</font>"
   ]
  },
  {
   "cell_type": "code",
   "execution_count": 117,
   "metadata": {},
   "outputs": [],
   "source": [
    "import numpy as np\n",
    "hyper = []\n",
    "i = 0.0001\n",
    "while(i<=10000):\n",
    "    hyper.append(np.round(i,4))\n",
    "    i *= 10\n",
    "\n",
    "auc1=[]\n",
    "auc2=[]\n",
    "\n",
    "for j in hyper:\n",
    "  \n",
    "    model = LogisticRegression(penalty='l2',C=j)\n",
    "    model.fit(Xbow_tr_std, y_tr)\n",
    "    \n",
    "    probs = model.predict_proba(Xbow_tr_std)\n",
    "    preds = probs[:,1]\n",
    "    roc_auc1=metrics.roc_auc_score(y_tr, preds)\n",
    "    auc1.append(roc_auc1)\n",
    "    \n",
    "  \n",
    "    probs = model.predict_proba(Xbow_cv_std)\n",
    "    preds = probs[:,1]\n",
    "    roc_auc2=metrics.roc_auc_score(y_cv, preds)\n",
    "    auc2.append(roc_auc2)\n",
    "    \n",
    "    \n",
    "\n",
    "    "
   ]
  },
  {
   "cell_type": "code",
   "execution_count": 119,
   "metadata": {},
   "outputs": [
    {
     "name": "stdout",
     "output_type": "stream",
     "text": [
      "[0.0001, 0.001, 0.01, 0.1, 1.0, 10.0, 100.0, 1000.0, 10000.0]\n",
      "--------------------------------------------------------------------------------------------\n",
      "[0.8871180800082383, 0.8981367397598758, 0.9005436498320226, 0.9008194502713646, 0.900828667089012, 0.900830950409396, 0.9008301428936505, 0.9008306162649495, 0.9008304571485465]\n",
      "--------------------------------------------------------------------------------------------\n",
      "------------------------------------------------------------------------------------------\n",
      "[0.888755653474328, 0.8995934285437018, 0.9010870362003226, 0.9010841883762167, 0.9010949709774116, 0.901098970974629, 0.9010983188011694, 0.9010983840185155, 0.9010980361926705]\n"
     ]
    },
    {
     "data": {
      "image/png": "[encoded data removed]",
      "text/plain": [
       "<Figure size 432x288 with 1 Axes>"
      ]
     },
     "metadata": {},
     "output_type": "display_data"
    }
   ],
   "source": [
    "print(hyper)\n",
    "\n",
    "print('--------------------------------------------------------------------------------------------')\n",
    "print(auc1)\n",
    "\n",
    "print('--------------------------------------------------------------------------------------------')\n",
    "print('------------------------------------------------------------------------------------------')\n",
    "print(auc2)\n",
    "\n",
    "plt.title('AUC on train and  C.V for varoius value of C=(1/LAMBDA) on AvgW2V with L2',size=16)\n",
    "plt.plot(hyper, auc1,'g',label ='Train')\n",
    "plt.plot(hyper, auc2,'r',label ='C.V')\n",
    "\n",
    "plt.ylabel('AUC',size=10)\n",
    "plt.xlabel('C=(1/LAMBDA)',size=10)\n",
    "plt.grid()\n",
    "plt.legend()\n",
    "plt.show()\n"
   ]
  },
  {
   "cell_type": "code",
   "execution_count": 120,
   "metadata": {},
   "outputs": [
    {
     "name": "stdout",
     "output_type": "stream",
     "text": [
      "\n",
      "The accuracy of the LOGISTIC Regression classifier with L2 regulariser for alpha on AvgW2V = 0.010000 is 88.325991%\n"
     ]
    }
   ],
   "source": [
    "# L.R with optimal c\n",
    "lr = LogisticRegression(penalty='l2',C=.01)\n",
    "\n",
    "# fitting the model\n",
    "lr.fit(Xbow_tr_std, y_tr)\n",
    "\n",
    "# predict the response\n",
    "pred = lr.predict(Xbow_test_std)\n",
    "\n",
    "# evaluate accuracy\n",
    "acc = accuracy_score(y_test, pred) * 100\n",
    "print('\\nThe accuracy of the LOGISTIC Regression classifier with L2 regulariser for alpha on AvgW2V = %f is %f%%' % (0.01, acc))"
   ]
  },
  {
   "cell_type": "code",
   "execution_count": 121,
   "metadata": {},
   "outputs": [
    {
     "data": {
      "image/png": "[encoded data removed]",
      "text/plain": [
       "<Figure size 720x504 with 2 Axes>"
      ]
     },
     "metadata": {},
     "output_type": "display_data"
    }
   ],
   "source": [
    "# Code for drawing seaborn heatmaps\n",
    "class_names = ['negative','positive']\n",
    "df_heatmap = pd.DataFrame(confusion_matrix(y_test, pred), index=class_names, columns=class_names )\n",
    "fig = plt.figure(figsize=(10,7))\n",
    "heatmap = sns.heatmap(df_heatmap, annot=True, fmt=\"d\")\n",
    "\n",
    "# Setting tick labels for heatmap\n",
    "heatmap.yaxis.set_ticklabels(heatmap.yaxis.get_ticklabels(), rotation=0, ha='right', fontsize=14)\n",
    "heatmap.xaxis.set_ticklabels(heatmap.xaxis.get_ticklabels(), rotation=0, ha='right', fontsize=14)\n",
    "plt.ylabel('Predicted label',size=18)\n",
    "plt.xlabel('True label',size=18)\n",
    "plt.title(\"Confusion Matrix  applying Logistic reg. on AvgW2V FOR L2 \\n\",size=24)\n",
    "plt.show()"
   ]
  },
  {
   "cell_type": "code",
   "execution_count": 52,
   "metadata": {},
   "outputs": [],
   "source": [
    "\n",
    "probs2 = lr.predict_proba(Xbow_tr)\n",
    "preds2 = probs2[:,1]\n",
    "fpr2, tpr2, threshold2 = metrics.roc_curve(y_tr, preds2)\n",
    "roc_auc2 = metrics.auc(fpr2, tpr2)\n",
    "\n",
    "\n",
    "probs1 = lr.predict_proba(Xbow_test)\n",
    "preds1 = probs1[:,1]\n",
    "fpr1, tpr1, threshold1 = metrics.roc_curve(y_test, preds1)\n",
    "roc_auc1 = metrics.auc(fpr1, tpr1)\n",
    "\n"
   ]
  },
  {
   "cell_type": "code",
   "execution_count": 53,
   "metadata": {},
   "outputs": [
    {
     "data": {
      "image/png": "[encoded data removed]",
      "text/plain": [
       "<Figure size 432x288 with 1 Axes>"
      ]
     },
     "metadata": {},
     "output_type": "display_data"
    }
   ],
   "source": [
    "plt.title('Receiver Operating Characteristic on train and test')\n",
    "plt.plot(fpr1, tpr1, 'b', label = 'AUC = %0.2f' % roc_auc1)\n",
    "plt.plot(fpr2, tpr2, 'g', label = 'AUC = %0.2f' % roc_auc2)\n",
    "#plt.plot(neighbors, auc1,'g')\n",
    "#plt.plot(neighbors, auc2,'r')\n",
    "plt.legend(loc = 'lower right')\n",
    "plt.plot([0, 1], [0, 1],'r--')\n",
    "plt.ylabel('True Positive Rate')\n",
    "plt.xlabel('False Positive Rate')\n",
    "plt.show()"
   ]
  },
  {
   "cell_type": "code",
   "execution_count": 122,
   "metadata": {},
   "outputs": [
    {
     "name": "stdout",
     "output_type": "stream",
     "text": [
      "50\n"
     ]
    }
   ],
   "source": [
    "# SPARCITY OF our model 0.01\n",
    "\n",
    "w = lr.coef_\n",
    "print(np.count_nonzero(w))"
   ]
  },
  {
   "cell_type": "markdown",
   "metadata": {},
   "source": [
    "## [5.4] Logistic Regression on TFIDF W2V,<font color='red'> SET 4</font>"
   ]
  },
  {
   "cell_type": "code",
   "execution_count": 54,
   "metadata": {},
   "outputs": [],
   "source": [
    "# S = [\"abc def pqr\", \"def def def abc\", \"pqr pqr def\"]\n",
    "model = TfidfVectorizer()\n",
    "model.fit(X_tr)\n",
    "# we are converting a dictionary with word as a key, and the idf as a value\n",
    "dictionary = dict(zip(model.get_feature_names(), list(model.idf_)))"
   ]
  },
  {
   "cell_type": "code",
   "execution_count": 55,
   "metadata": {},
   "outputs": [],
   "source": [
    "# TF-IDF weighted Word2Vec\n",
    "tfidf_feat = model.get_feature_names() # tfidf words/col-names\n",
    "# final_tf_idf is the sparse matrix with row= sentence, col=word and cell_val = tfidf\n",
    "\n",
    "Xbow_tr = []; # the tfidf-w2v for each sentence/review is stored in this list\n",
    "row=0;\n",
    "for sent in sent_of_train: # for each review/sentence \n",
    "    sent_vec = np.zeros(50) # as word vectors are of zero length\n",
    "    weight_sum =0; # num of words with a valid vector in the sentence/review\n",
    "    for word in sent: # for each word in a review/sentence\n",
    "        if word in w2v_words and word in tfidf_feat:\n",
    "            vec = w2v_model.wv[word]\n",
    "#             tf_idf = tf_idf_matrix[row, tfidf_feat.index(word)]\n",
    "            # to reduce the computation we are \n",
    "            # dictionary[word] = idf value of word in whole courpus\n",
    "            # sent.count(word) = tf valeus of word in this review\n",
    "            tf_idf = dictionary[word]*(sent.count(word)/len(sent))\n",
    "            sent_vec += (vec * tf_idf)\n",
    "            weight_sum += tf_idf\n",
    "    if weight_sum != 0:\n",
    "        sent_vec /= weight_sum\n",
    "    Xbow_tr.append(sent_vec)\n",
    "    row += 1"
   ]
  },
  {
   "cell_type": "code",
   "execution_count": 56,
   "metadata": {},
   "outputs": [],
   "source": [
    "# S = [\"abc def pqr\", \"def def def abc\", \"pqr pqr def\"]\n",
    "model = TfidfVectorizer()\n",
    "model.fit(X_cv)\n",
    "# we are converting a dictionary with word as a key, and the idf as a value\n",
    "dictionary = dict(zip(model.get_feature_names(), list(model.idf_)))"
   ]
  },
  {
   "cell_type": "code",
   "execution_count": 57,
   "metadata": {},
   "outputs": [],
   "source": [
    "# TF-IDF weighted Word2Vec\n",
    "tfidf_feat = model.get_feature_names() # tfidf words/col-names\n",
    "# final_tf_idf is the sparse matrix with row= sentence, col=word and cell_val = tfidf\n",
    "\n",
    "Xbow_cv = []; # the tfidf-w2v for each sentence/review is stored in this list\n",
    "row=0;\n",
    "for sent in sent_of_cv: # for each review/sentence \n",
    "    sent_vec = np.zeros(50) # as word vectors are of zero length\n",
    "    weight_sum =0; # num of words with a valid vector in the sentence/review\n",
    "    for word in sent: # for each word in a review/sentence\n",
    "        if word in w2v_words and word in tfidf_feat:\n",
    "            vec = w2v_model.wv[word]\n",
    "#             tf_idf = tf_idf_matrix[row, tfidf_feat.index(word)]\n",
    "            # to reduce the computation we are \n",
    "            # dictionary[word] = idf value of word in whole courpus\n",
    "            # sent.count(word) = tf valeus of word in this review\n",
    "            tf_idf = dictionary[word]*(sent.count(word)/len(sent))\n",
    "            sent_vec += (vec * tf_idf)\n",
    "            weight_sum += tf_idf\n",
    "    if weight_sum != 0:\n",
    "        sent_vec /= weight_sum\n",
    "    Xbow_cv.append(sent_vec)\n",
    "    row += 1"
   ]
  },
  {
   "cell_type": "code",
   "execution_count": 58,
   "metadata": {},
   "outputs": [],
   "source": [
    "# S = [\"abc def pqr\", \"def def def abc\", \"pqr pqr def\"]\n",
    "model = TfidfVectorizer()\n",
    "model.fit(X_test)\n",
    "# we are converting a dictionary with word as a key, and the idf as a value\n",
    "dictionary = dict(zip(model.get_feature_names(), list(model.idf_)))"
   ]
  },
  {
   "cell_type": "code",
   "execution_count": 59,
   "metadata": {},
   "outputs": [],
   "source": [
    "# TF-IDF weighted Word2Vec\n",
    "tfidf_feat = model.get_feature_names() # tfidf words/col-names\n",
    "# final_tf_idf is the sparse matrix with row= sentence, col=word and cell_val = tfidf\n",
    "\n",
    "Xbow_test = []; # the tfidf-w2v for each sentence/review is stored in this list\n",
    "row=0;\n",
    "for sent in sent_of_test: # for each review/sentence \n",
    "    sent_vec = np.zeros(50) # as word vectors are of zero length\n",
    "    weight_sum =0; # num of words with a valid vector in the sentence/review\n",
    "    for word in sent: # for each word in a review/sentence\n",
    "        if word in w2v_words and word in tfidf_feat:\n",
    "            vec = w2v_model.wv[word]\n",
    "#             tf_idf = tf_idf_matrix[row, tfidf_feat.index(word)]\n",
    "            # to reduce the computation we are \n",
    "            # dictionary[word] = idf value of word in whole courpus\n",
    "            # sent.count(word) = tf valeus of word in this review\n",
    "            tf_idf = dictionary[word]*(sent.count(word)/len(sent))\n",
    "            sent_vec += (vec * tf_idf)\n",
    "            weight_sum += tf_idf\n",
    "    if weight_sum != 0:\n",
    "        sent_vec /= weight_sum\n",
    "    Xbow_test.append(sent_vec)\n",
    "    row += 1"
   ]
  },
  {
   "cell_type": "code",
   "execution_count": 60,
   "metadata": {},
   "outputs": [],
   "source": [
    "import warnings\n",
    "warnings.filterwarnings('ignore')\n",
    "# Data-preprocessing: Standardizing the data\n",
    "\n",
    "from sklearn.preprocessing import StandardScaler\n",
    "sc = StandardScaler(with_mean=False)\n",
    "Xbow_tr_std = sc.fit_transform(Xbow_tr)\n",
    "Xbow_test_std = sc.transform(Xbow_test)\n",
    "Xbow_cv_std = sc.fit_transform(Xbow_cv)"
   ]
  },
  {
   "cell_type": "markdown",
   "metadata": {},
   "source": [
    "### [5.4.1] Applying Logistic Regression with L1 regularization on TFIDF W2V,<font color='red'> SET 4</font>"
   ]
  },
  {
   "cell_type": "code",
   "execution_count": 130,
   "metadata": {},
   "outputs": [],
   "source": [
    "import numpy as np\n",
    "hyper = []\n",
    "i = 0.0001\n",
    "while(i<=10000):\n",
    "    hyper.append(np.round(i,4))\n",
    "    i *= 10\n",
    "\n",
    "auc1=[]\n",
    "auc2=[]\n",
    "\n",
    "for j in hyper:\n",
    "  \n",
    "    model = LogisticRegression(penalty='l1',C=j)\n",
    "    model.fit(Xbow_tr_std, y_tr)\n",
    "    \n",
    "    probs = model.predict_proba(Xbow_tr_std)\n",
    "    preds = probs[:,1]\n",
    "    roc_auc1=metrics.roc_auc_score(y_tr, preds)\n",
    "    auc1.append(roc_auc1)\n",
    "    \n",
    "  \n",
    "    probs = model.predict_proba(Xbow_cv_std)\n",
    "    preds = probs[:,1]\n",
    "    roc_auc2=metrics.roc_auc_score(y_cv, preds)\n",
    "    auc2.append(roc_auc2)\n",
    "    \n",
    "    \n",
    "\n",
    "    "
   ]
  },
  {
   "cell_type": "code",
   "execution_count": 131,
   "metadata": {},
   "outputs": [
    {
     "name": "stdout",
     "output_type": "stream",
     "text": [
      "[0.0001, 0.001, 0.01, 0.1, 1.0, 10.0, 100.0, 1000.0, 10000.0]\n",
      "--------------------------------------------------------------------------------------------\n",
      "[0.5782152551125026, 0.8354769866425797, 0.8713754809904886, 0.8739602434221607, 0.8740113715003754, 0.8740106992335724, 0.8740108583499756, 0.8740108623278856, 0.8740103770228562]\n",
      "--------------------------------------------------------------------------------------------\n",
      "------------------------------------------------------------------------------------------\n",
      "[0.5777080655074327, 0.8334385397818853, 0.8725004256518778, 0.8753093367413309, 0.8752591193849606, 0.8752432063525519, 0.8752424889617468, 0.8752441846127412, 0.8752452715685067]\n"
     ]
    },
    {
     "data": {
      "image/png": "[encoded data removed]",
      "text/plain": [
       "<Figure size 432x288 with 1 Axes>"
      ]
     },
     "metadata": {},
     "output_type": "display_data"
    }
   ],
   "source": [
    "print(hyper)\n",
    "\n",
    "print('--------------------------------------------------------------------------------------------')\n",
    "print(auc1)\n",
    "\n",
    "print('--------------------------------------------------------------------------------------------')\n",
    "print('------------------------------------------------------------------------------------------')\n",
    "print(auc2)\n",
    "\n",
    "plt.title('AUC on train and  C.V for varoius value of C=(1/LAMBDA) on tfidfW2V with L1',size=16)\n",
    "plt.plot(hyper, auc1,'g',label ='Train')\n",
    "plt.plot(hyper, auc2,'r',label ='C.V')\n",
    "\n",
    "plt.ylabel('AUC',size=10)\n",
    "plt.xlabel('C=(1/LAMBDA)',size=10)\n",
    "plt.grid()\n",
    "plt.legend()\n",
    "plt.show()\n"
   ]
  },
  {
   "cell_type": "code",
   "execution_count": 61,
   "metadata": {},
   "outputs": [
    {
     "name": "stdout",
     "output_type": "stream",
     "text": [
      "\n",
      "The accuracy of the LOGISTIC Regression classifier with L1 regulariser for alpha on tfidfW2V = 0.100000 is 87.357588%\n"
     ]
    }
   ],
   "source": [
    "# L.R with optimal c\n",
    "lr = LogisticRegression(penalty='l1',C=.1)\n",
    "\n",
    "# fitting the model\n",
    "lr.fit(Xbow_tr_std, y_tr)\n",
    "\n",
    "# predict the response\n",
    "pred = lr.predict(Xbow_test_std)\n",
    "\n",
    "# evaluate accuracy\n",
    "acc = accuracy_score(y_test, pred) * 100\n",
    "print('\\nThe accuracy of the LOGISTIC Regression classifier with L1 regulariser for alpha on tfidfW2V = %f is %f%%' % (0.1, acc))"
   ]
  },
  {
   "cell_type": "code",
   "execution_count": 133,
   "metadata": {},
   "outputs": [
    {
     "data": {
      "image/png": "[encoded data removed]",
      "text/plain": [
       "<Figure size 720x504 with 2 Axes>"
      ]
     },
     "metadata": {},
     "output_type": "display_data"
    }
   ],
   "source": [
    "# Code for drawing seaborn heatmaps\n",
    "class_names = ['negative','positive']\n",
    "df_heatmap = pd.DataFrame(confusion_matrix(y_test, pred), index=class_names, columns=class_names )\n",
    "fig = plt.figure(figsize=(10,7))\n",
    "heatmap = sns.heatmap(df_heatmap, annot=True, fmt=\"d\")\n",
    "\n",
    "# Setting tick labels for heatmap\n",
    "heatmap.yaxis.set_ticklabels(heatmap.yaxis.get_ticklabels(), rotation=0, ha='right', fontsize=14)\n",
    "heatmap.xaxis.set_ticklabels(heatmap.xaxis.get_ticklabels(), rotation=0, ha='right', fontsize=14)\n",
    "plt.ylabel('Predicted label',size=18)\n",
    "plt.xlabel('True label',size=18)\n",
    "plt.title(\"Confusion Matrix  applying Logistic reg. on tfidfW2V FOR L1 \\n\",size=24)\n",
    "plt.show()"
   ]
  },
  {
   "cell_type": "code",
   "execution_count": 62,
   "metadata": {},
   "outputs": [],
   "source": [
    "\n",
    "probs2 = lr.predict_proba(Xbow_tr)\n",
    "preds2 = probs2[:,1]\n",
    "fpr2, tpr2, threshold2 = metrics.roc_curve(y_tr, preds2)\n",
    "roc_auc2 = metrics.auc(fpr2, tpr2)\n",
    "\n",
    "\n",
    "probs1 = lr.predict_proba(Xbow_test)\n",
    "preds1 = probs1[:,1]\n",
    "fpr1, tpr1, threshold1 = metrics.roc_curve(y_test, preds1)\n",
    "roc_auc1 = metrics.auc(fpr1, tpr1)\n",
    "\n"
   ]
  },
  {
   "cell_type": "code",
   "execution_count": 63,
   "metadata": {},
   "outputs": [
    {
     "data": {
      "image/png": "[encoded data removed]",
      "text/plain": [
       "<Figure size 432x288 with 1 Axes>"
      ]
     },
     "metadata": {},
     "output_type": "display_data"
    }
   ],
   "source": [
    "plt.title('Receiver Operating Characteristic on train and test')\n",
    "plt.plot(fpr1, tpr1, 'b', label = 'AUC = %0.2f' % roc_auc1)\n",
    "plt.plot(fpr2, tpr2, 'g', label = 'AUC = %0.2f' % roc_auc2)\n",
    "#plt.plot(neighbors, auc1,'g')\n",
    "#plt.plot(neighbors, auc2,'r')\n",
    "plt.legend(loc = 'lower right')\n",
    "plt.plot([0, 1], [0, 1],'r--')\n",
    "plt.ylabel('True Positive Rate')\n",
    "plt.xlabel('False Positive Rate')\n",
    "plt.show()"
   ]
  },
  {
   "cell_type": "code",
   "execution_count": 134,
   "metadata": {},
   "outputs": [
    {
     "name": "stdout",
     "output_type": "stream",
     "text": [
      "49\n"
     ]
    }
   ],
   "source": [
    "# SPARCITY OF our model 0.1\n",
    "\n",
    "w = lr.coef_\n",
    "print(np.count_nonzero(w))"
   ]
  },
  {
   "cell_type": "markdown",
   "metadata": {},
   "source": [
    "### [5.4.2] Applying Logistic Regression with L2 regularization on TFIDF W2V,<font color='red'> SET 4</font>"
   ]
  },
  {
   "cell_type": "code",
   "execution_count": 135,
   "metadata": {},
   "outputs": [],
   "source": [
    "import numpy as np\n",
    "hyper = []\n",
    "i = 0.0001\n",
    "while(i<=10000):\n",
    "    hyper.append(np.round(i,4))\n",
    "    i *= 10\n",
    "\n",
    "auc1=[]\n",
    "auc2=[]\n",
    "\n",
    "for j in hyper:\n",
    "  \n",
    "    model = LogisticRegression(penalty='l2',C=j)\n",
    "    model.fit(Xbow_tr_std, y_tr)\n",
    "    \n",
    "    probs = model.predict_proba(Xbow_tr_std)\n",
    "    preds = probs[:,1]\n",
    "    roc_auc1=metrics.roc_auc_score(y_tr, preds)\n",
    "    auc1.append(roc_auc1)\n",
    "    \n",
    "  \n",
    "    probs = model.predict_proba(Xbow_cv_std)\n",
    "    preds = probs[:,1]\n",
    "    roc_auc2=metrics.roc_auc_score(y_cv, preds)\n",
    "    auc2.append(roc_auc2)\n",
    "    \n",
    "    \n",
    "\n",
    "    "
   ]
  },
  {
   "cell_type": "code",
   "execution_count": 136,
   "metadata": {},
   "outputs": [
    {
     "name": "stdout",
     "output_type": "stream",
     "text": [
      "[0.0001, 0.001, 0.01, 0.1, 1.0, 10.0, 100.0, 1000.0, 10000.0]\n",
      "--------------------------------------------------------------------------------------------\n",
      "[0.8503622664806176, 0.8698321195052338, 0.8737275317047687, 0.8740123699558047, 0.8740178674275306, 0.874018722678197, 0.8740184243349414, 0.874018304997639, 0.8740182970418188]\n",
      "--------------------------------------------------------------------------------------------\n",
      "------------------------------------------------------------------------------------------\n",
      "[0.8507346364454703, 0.8713057743090266, 0.875128684693089, 0.8752745758959471, 0.8752613585138376, 0.8752587498200002, 0.8752578150380417, 0.8752578585162722, 0.8752579454727335]\n"
     ]
    },
    {
     "data": {
      "image/png": "[encoded data removed]",
      "text/plain": [
       "<Figure size 432x288 with 1 Axes>"
      ]
     },
     "metadata": {},
     "output_type": "display_data"
    }
   ],
   "source": [
    "print(hyper)\n",
    "\n",
    "print('--------------------------------------------------------------------------------------------')\n",
    "print(auc1)\n",
    "\n",
    "print('--------------------------------------------------------------------------------------------')\n",
    "print('------------------------------------------------------------------------------------------')\n",
    "print(auc2)\n",
    "\n",
    "plt.title('AUC on train and  C.V for varoius value of C=(1/LAMBDA) on tfidfW2V with L2',size=16)\n",
    "plt.plot(hyper, auc1,'g',label ='Train')\n",
    "plt.plot(hyper, auc2,'r',label ='C.V')\n",
    "\n",
    "plt.ylabel('AUC',size=10)\n",
    "plt.xlabel('C=(1/LAMBDA)',size=10)\n",
    "plt.grid()\n",
    "plt.legend()\n",
    "plt.show()\n"
   ]
  },
  {
   "cell_type": "code",
   "execution_count": 64,
   "metadata": {},
   "outputs": [
    {
     "name": "stdout",
     "output_type": "stream",
     "text": [
      "\n",
      "The accuracy of the LOGISTIC Regression classifier with L2 regulariser for alpha on tfidfW2V = 0.010000 is 87.300623%\n"
     ]
    }
   ],
   "source": [
    "# L.R with optimal c\n",
    "lr = LogisticRegression(penalty='l2',C=.01)\n",
    "\n",
    "# fitting the model\n",
    "lr.fit(Xbow_tr_std, y_tr)\n",
    "\n",
    "# predict the response\n",
    "pred = lr.predict(Xbow_test_std)\n",
    "\n",
    "# evaluate accuracy\n",
    "acc = accuracy_score(y_test, pred) * 100\n",
    "print('\\nThe accuracy of the LOGISTIC Regression classifier with L2 regulariser for alpha on tfidfW2V = %f is %f%%' % (0.01, acc))"
   ]
  },
  {
   "cell_type": "code",
   "execution_count": 138,
   "metadata": {},
   "outputs": [
    {
     "data": {
      "image/png": "[encoded data removed]",
      "text/plain": [
       "<Figure size 720x504 with 2 Axes>"
      ]
     },
     "metadata": {},
     "output_type": "display_data"
    }
   ],
   "source": [
    "# Code for drawing seaborn heatmaps\n",
    "class_names = ['negative','positive']\n",
    "df_heatmap = pd.DataFrame(confusion_matrix(y_test, pred), index=class_names, columns=class_names )\n",
    "fig = plt.figure(figsize=(10,7))\n",
    "heatmap = sns.heatmap(df_heatmap, annot=True, fmt=\"d\")\n",
    "\n",
    "# Setting tick labels for heatmap\n",
    "heatmap.yaxis.set_ticklabels(heatmap.yaxis.get_ticklabels(), rotation=0, ha='right', fontsize=14)\n",
    "heatmap.xaxis.set_ticklabels(heatmap.xaxis.get_ticklabels(), rotation=0, ha='right', fontsize=14)\n",
    "plt.ylabel('Predicted label',size=18)\n",
    "plt.xlabel('True label',size=18)\n",
    "plt.title(\"Confusion Matrix  applying Logistic reg. on tfidfW2V FOR L2 \\n\",size=24)\n",
    "plt.show()"
   ]
  },
  {
   "cell_type": "code",
   "execution_count": 65,
   "metadata": {},
   "outputs": [],
   "source": [
    "\n",
    "probs2 = lr.predict_proba(Xbow_tr)\n",
    "preds2 = probs2[:,1]\n",
    "fpr2, tpr2, threshold2 = metrics.roc_curve(y_tr, preds2)\n",
    "roc_auc2 = metrics.auc(fpr2, tpr2)\n",
    "\n",
    "\n",
    "probs1 = lr.predict_proba(Xbow_test)\n",
    "preds1 = probs1[:,1]\n",
    "fpr1, tpr1, threshold1 = metrics.roc_curve(y_test, preds1)\n",
    "roc_auc1 = metrics.auc(fpr1, tpr1)\n",
    "\n"
   ]
  },
  {
   "cell_type": "code",
   "execution_count": 66,
   "metadata": {},
   "outputs": [
    {
     "data": {
      "image/png": "[encoded data removed]",
      "text/plain": [
       "<Figure size 432x288 with 1 Axes>"
      ]
     },
     "metadata": {},
     "output_type": "display_data"
    }
   ],
   "source": [
    "plt.title('Receiver Operating Characteristic on train and test')\n",
    "plt.plot(fpr1, tpr1, 'b', label = 'AUC = %0.2f' % roc_auc1)\n",
    "plt.plot(fpr2, tpr2, 'g', label = 'AUC = %0.2f' % roc_auc2)\n",
    "#plt.plot(neighbors, auc1,'g')\n",
    "#plt.plot(neighbors, auc2,'r')\n",
    "plt.legend(loc = 'lower right')\n",
    "plt.plot([0, 1], [0, 1],'r--')\n",
    "plt.ylabel('True Positive Rate')\n",
    "plt.xlabel('False Positive Rate')\n",
    "plt.show()"
   ]
  },
  {
   "cell_type": "code",
   "execution_count": 139,
   "metadata": {},
   "outputs": [
    {
     "name": "stdout",
     "output_type": "stream",
     "text": [
      "50\n"
     ]
    }
   ],
   "source": [
    "# SPARCITY OF our model 0.01\n",
    "\n",
    "w = lr.coef_\n",
    "print(np.count_nonzero(w))"
   ]
  },
  {
   "cell_type": "markdown",
   "metadata": {},
   "source": [
    "# [6] Conclusions"
   ]
  },
  {
   "cell_type": "code",
   "execution_count": 157,
   "metadata": {},
   "outputs": [
    {
     "name": "stdout",
     "output_type": "stream",
     "text": [
      "+------------+----------------------+----------------------------+--------+\n",
      "| Vactorizer | Regularizer(PANELTY) | Hyperparameter(C=1/LAMBDA) |  AUC%  |\n",
      "+------------+----------------------+----------------------------+--------+\n",
      "|    BOW     |          L1          |            0.01            | 90.817 |\n",
      "|    BOW     |          L2          |           0.001            | 91.326 |\n",
      "|   TFIDF    |          L1          |            0.1             | 91.641 |\n",
      "|   TFIDF    |          L2          |            0.1             | 90.498 |\n",
      "|   AVGW2V   |          L1          |            0.1             | 88.307 |\n",
      "|   AVGW2V   |          L2          |            0.01            | 88.325 |\n",
      "|  TFIDFW2V  |          L1          |            0.1             | 87.376 |\n",
      "|  TFIDFW2V  |          L2          |            0.01            | 87.334 |\n",
      "+------------+----------------------+----------------------------+--------+\n"
     ]
    }
   ],
   "source": [
    "# Comparing all our models using Prettytable\n",
    "from prettytable import PrettyTable\n",
    "    \n",
    "x = PrettyTable()\n",
    "\n",
    "x.field_names = [\"Vactorizer\", \"Regularizer(PANELTY)\", \"Hyperparameter(C=1/LAMBDA)\", \"AUC%\"]\n",
    "\n",
    "x.add_row([\"BOW\", \"L1\", .01, 90.817])\n",
    "x.add_row([\"BOW\", \"L2\", .001, 91.326])\n",
    "x.add_row([\"TFIDF\", \"L1\", .1, 91.641])\n",
    "x.add_row([\"TFIDF\",\"L2\", .1,90.498])\n",
    "x.add_row([\"AVGW2V\", \"L1\",.1, 88.307])\n",
    "x.add_row([\"AVGW2V\", \"L2\", .01,88.325])\n",
    "x.add_row([\"TFIDFW2V\",\"L1\", .1,87.376])\n",
    "x.add_row([\"TFIDFW2V\",\"L2\", .01, 87.334])\n",
    "print(x)"
   ]
  },
  {
   "cell_type": "markdown",
   "metadata": {},
   "source": [
    "### ------>>> WE have taken 100k points for Apply Logistic Regression on Amazon Fine Food Reviews.\n",
    " \n",
    "STEP 1 :- Data cleaning (removing duplication)\n",
    "    \n",
    "    \n",
    "STEP 2 :- Text Preprocessing\n",
    "\n",
    "\n",
    "STEP 3:- Featurization on text reviews i.e BOW,TFIDF,avgW2V,TFIDF-W2V.\n",
    "\n",
    "\n",
    "STEP 4:- Standardization on vectors i.e BOW,TFIDF,avgW2V,TFIDF-W2V.\n",
    "\n",
    "\n",
    "STEP 5:- Applying Logistic Regression using L1 and L2 regularizer on i.e BOW,TFIDF,avgW2V,TFIDF-W2V.\n",
    "\n",
    "\n",
    "STEP 6:- Using AUC as a metric and plot curve for train(predected value on itself) and C.V predected            value on train VS for each values of (C=1/lambda) in exponential scale using our own loops.\n",
    "\n",
    "\n",
    "STEP 7:- Plot \"AUC VS C\" to analise overfitting and underfitting.\n",
    "\n",
    "\n",
    "STEP 8:- Once , we analise optimal value of C then train Logistic Regrassion again with this analised          optimal C and make predictions on test_data.\n",
    " \n",
    "\n",
    "STEP 7:- Compute test accuracy using predicted values of test_data.\n",
    "\n",
    "\n",
    "STEP 8:- Plot Seaborn Heatmap for representation of Confusion Matrix on Logistic Regrassion.\n",
    "\n",
    "\n",
    "STEP 9:- Plot ROC curve for train and test on each model.\n",
    "\n",
    "\n",
    "STEP 10:- Compute sparsity for each model.\n",
    "\n",
    "\n",
    "\n",
    "------>>> Repeat from STEP 4 to STEP 9 for each of these four vectorizers : Bag Of Words(BoW),TFIDF,             Avg Word2Vec and TFIDF Word2Vec saparately on L1 nad L2 Regularizer of Logistic Regression.\n",
    "\n",
    "\n",
    "------>>>> Calculate sparcity on BOW L1 Regularizer for different values of (c=1/lambda) to analise              the effect of lambda on sparcity which results as W decreases as LAMBDA increases and vice            versa.\n",
    "\n",
    "\n",
    "------>>>> Perform pertubation test (multicollinearity check) on BOW with L2 Regularizer which shows              there is significant difference in some weight of both vectors (i.e before adding noise              and after adding noise) so we will set a thershold and disgard them  via observing the                percentile values and for rest of weights we will use absolute value to find out important            feature extraction.\n",
    "\n",
    "\n",
    "------>>>> We extract the top 10 important features from positive class and negative class from SET1              and SET2 i.e BOW AND TFIDF vectorizer  \n",
    "\n",
    "\n",
    "--------------->>>>>  AT THE END WE MAKE A TABLE TO COMPAIR OUR RESULTS OF LOGISTIC REGRESSION WITH                         DIFFERENT  VECTORIZERS AND DIFFERENT REGULARIZER ."
   ]
  },
  {
   "cell_type": "code",
   "execution_count": null,
   "metadata": {},
   "outputs": [],
   "source": []
  }
 ],
 "metadata": {
  "kernelspec": {
   "display_name": "Python 3",
   "language": "python",
   "name": "python3"
  },
  "language_info": {
   "codemirror_mode": {
    "name": "ipython",
    "version": 3
   },
   "file_extension": ".py",
   "mimetype": "text/x-python",
   "name": "python",
   "nbconvert_exporter": "python",
   "pygments_lexer": "ipython3",
   "version": "3.6.5"
  }
 },
 "nbformat": 4,
 "nbformat_minor": 2
}
